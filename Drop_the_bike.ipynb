{
  "cells": [
    {
      "cell_type": "markdown",
      "id": "ff1cb5e9",
      "metadata": {
        "id": "ff1cb5e9"
      },
      "source": [
        "# Data Manipulation and Visualization\n",
        "\n",
        "*Foundations of Data Science*  \n",
        "*Dr. Khalaj (Fall 2023)*  "
      ]
    },
    {
      "cell_type": "markdown",
      "id": "2ea676e1",
      "metadata": {
        "id": "2ea676e1"
      },
      "source": [
        "### Information  "
      ]
    },
    {
      "cell_type": "code",
      "execution_count": null,
      "id": "5f4e4b36",
      "metadata": {
        "id": "5f4e4b36"
      },
      "outputs": [],
      "source": [
        "full_name = 'Ali Aramideh'"
      ]
    },
    {
      "cell_type": "code",
      "execution_count": null,
      "id": "c1a58625",
      "metadata": {
        "id": "c1a58625"
      },
      "outputs": [],
      "source": [
        "# Import all your libraries here\n",
        "import pandas as pd\n",
        "import numpy as np\n",
        "import re\n",
        "import matplotlib.pyplot as plt\n",
        "import seaborn as sns\n",
        "import xlrd\n",
        "import matplotlib.patches as mpatches\n",
        "import matplotlib.colors as mcolors\n",
        "\n",
        "from sklearn.preprocessing import LabelEncoder"
      ]
    },
    {
      "cell_type": "markdown",
      "id": "4415b90b",
      "metadata": {
        "id": "4415b90b"
      },
      "source": [
        "## Drop the bike\n",
        "\n",
        "*Los Angeles Metro* has been sharing publicly [anonymized *Metro Bike Share* trip data](https://bikeshare.metro.net/about/data/) under the [Open Database License (ODbL)](http://opendatacommons.org/licenses/odbl/1.0/).\n",
        "\n",
        "In this question you will again perform data wrangling and interpretation."
      ]
    },
    {
      "cell_type": "markdown",
      "id": "0101a922",
      "metadata": {
        "id": "0101a922"
      },
      "source": [
        "### 1. Loading phase\n",
        "Load the json file into a `DataFrame`.\n"
      ]
    },
    {
      "cell_type": "code",
      "execution_count": null,
      "id": "c5158d1f",
      "metadata": {
        "id": "c5158d1f",
        "outputId": "fa1f391e-1acb-4f46-93e1-eb1680d0b0a3"
      },
      "outputs": [
        {
          "data": {
            "text/html": [
              "<div>\n",
              "<style scoped>\n",
              "    .dataframe tbody tr th:only-of-type {\n",
              "        vertical-align: middle;\n",
              "    }\n",
              "\n",
              "    .dataframe tbody tr th {\n",
              "        vertical-align: top;\n",
              "    }\n",
              "\n",
              "    .dataframe thead th {\n",
              "        text-align: right;\n",
              "    }\n",
              "</style>\n",
              "<table border=\"1\" class=\"dataframe\">\n",
              "  <thead>\n",
              "    <tr style=\"text-align: right;\">\n",
              "      <th></th>\n",
              "      <th>Bike ID</th>\n",
              "      <th>Duration</th>\n",
              "      <th>End Time</th>\n",
              "      <th>Ending Station ID</th>\n",
              "      <th>Ending Station Latitude</th>\n",
              "      <th>Ending Station Longitude</th>\n",
              "      <th>Passholder Type</th>\n",
              "      <th>Plan Duration</th>\n",
              "      <th>Start Time</th>\n",
              "      <th>Starting Station ID</th>\n",
              "      <th>Starting Station Latitude</th>\n",
              "      <th>Starting Station Longitude</th>\n",
              "      <th>Trip ID</th>\n",
              "      <th>Trip Route Category</th>\n",
              "    </tr>\n",
              "  </thead>\n",
              "  <tbody>\n",
              "    <tr>\n",
              "      <th>0</th>\n",
              "      <td>6281.0</td>\n",
              "      <td>180</td>\n",
              "      <td>2016-07-07T04:20:00</td>\n",
              "      <td>3014.0</td>\n",
              "      <td>34.056610</td>\n",
              "      <td>-118.237210</td>\n",
              "      <td>Monthly Pass</td>\n",
              "      <td>30.0</td>\n",
              "      <td>2016-07-07T04:17:00</td>\n",
              "      <td>3014.0</td>\n",
              "      <td>34.056610</td>\n",
              "      <td>-118.237210</td>\n",
              "      <td>1912818</td>\n",
              "      <td>Round Trip</td>\n",
              "    </tr>\n",
              "    <tr>\n",
              "      <th>1</th>\n",
              "      <td>6281.0</td>\n",
              "      <td>1980</td>\n",
              "      <td>2016-07-07T06:33:00</td>\n",
              "      <td>3014.0</td>\n",
              "      <td>34.056610</td>\n",
              "      <td>-118.237210</td>\n",
              "      <td>Monthly Pass</td>\n",
              "      <td>30.0</td>\n",
              "      <td>2016-07-07T06:00:00</td>\n",
              "      <td>3014.0</td>\n",
              "      <td>34.056610</td>\n",
              "      <td>-118.237210</td>\n",
              "      <td>1919661</td>\n",
              "      <td>Round Trip</td>\n",
              "    </tr>\n",
              "    <tr>\n",
              "      <th>2</th>\n",
              "      <td>5861.0</td>\n",
              "      <td>300</td>\n",
              "      <td>2016-07-07T10:37:00</td>\n",
              "      <td>3016.0</td>\n",
              "      <td>34.052898</td>\n",
              "      <td>-118.241560</td>\n",
              "      <td>Flex Pass</td>\n",
              "      <td>365.0</td>\n",
              "      <td>2016-07-07T10:32:00</td>\n",
              "      <td>3016.0</td>\n",
              "      <td>34.052898</td>\n",
              "      <td>-118.241560</td>\n",
              "      <td>1933383</td>\n",
              "      <td>Round Trip</td>\n",
              "    </tr>\n",
              "    <tr>\n",
              "      <th>3</th>\n",
              "      <td>5861.0</td>\n",
              "      <td>10860</td>\n",
              "      <td>2016-07-07T13:38:00</td>\n",
              "      <td>3016.0</td>\n",
              "      <td>34.052898</td>\n",
              "      <td>-118.241560</td>\n",
              "      <td>Flex Pass</td>\n",
              "      <td>365.0</td>\n",
              "      <td>2016-07-07T10:37:00</td>\n",
              "      <td>3016.0</td>\n",
              "      <td>34.052898</td>\n",
              "      <td>-118.241560</td>\n",
              "      <td>1944197</td>\n",
              "      <td>Round Trip</td>\n",
              "    </tr>\n",
              "    <tr>\n",
              "      <th>4</th>\n",
              "      <td>6674.0</td>\n",
              "      <td>420</td>\n",
              "      <td>2016-07-07T12:58:00</td>\n",
              "      <td>3032.0</td>\n",
              "      <td>34.049889</td>\n",
              "      <td>-118.255880</td>\n",
              "      <td>Walk-up</td>\n",
              "      <td>0.0</td>\n",
              "      <td>2016-07-07T12:51:00</td>\n",
              "      <td>3032.0</td>\n",
              "      <td>34.049889</td>\n",
              "      <td>-118.255880</td>\n",
              "      <td>1940317</td>\n",
              "      <td>Round Trip</td>\n",
              "    </tr>\n",
              "    <tr>\n",
              "      <th>...</th>\n",
              "      <td>...</td>\n",
              "      <td>...</td>\n",
              "      <td>...</td>\n",
              "      <td>...</td>\n",
              "      <td>...</td>\n",
              "      <td>...</td>\n",
              "      <td>...</td>\n",
              "      <td>...</td>\n",
              "      <td>...</td>\n",
              "      <td>...</td>\n",
              "      <td>...</td>\n",
              "      <td>...</td>\n",
              "      <td>...</td>\n",
              "      <td>...</td>\n",
              "    </tr>\n",
              "    <tr>\n",
              "      <th>132422</th>\n",
              "      <td>5978.0</td>\n",
              "      <td>540</td>\n",
              "      <td>2017-03-31T23:52:00</td>\n",
              "      <td>3035.0</td>\n",
              "      <td>34.048401</td>\n",
              "      <td>-118.260948</td>\n",
              "      <td>Walk-up</td>\n",
              "      <td>0.0</td>\n",
              "      <td>2017-03-31T23:43:00</td>\n",
              "      <td>3055.0</td>\n",
              "      <td>34.044159</td>\n",
              "      <td>-118.251579</td>\n",
              "      <td>23660993</td>\n",
              "      <td>One Way</td>\n",
              "    </tr>\n",
              "    <tr>\n",
              "      <th>132423</th>\n",
              "      <td>6478.0</td>\n",
              "      <td>480</td>\n",
              "      <td>2017-03-31T23:52:00</td>\n",
              "      <td>3035.0</td>\n",
              "      <td>34.048401</td>\n",
              "      <td>-118.260948</td>\n",
              "      <td>Walk-up</td>\n",
              "      <td>0.0</td>\n",
              "      <td>2017-03-31T23:44:00</td>\n",
              "      <td>3055.0</td>\n",
              "      <td>34.044159</td>\n",
              "      <td>-118.251579</td>\n",
              "      <td>23660992</td>\n",
              "      <td>One Way</td>\n",
              "    </tr>\n",
              "    <tr>\n",
              "      <th>132424</th>\n",
              "      <td>6183.0</td>\n",
              "      <td>480</td>\n",
              "      <td>2017-03-31T23:52:00</td>\n",
              "      <td>3054.0</td>\n",
              "      <td>34.039219</td>\n",
              "      <td>-118.236488</td>\n",
              "      <td>Walk-up</td>\n",
              "      <td>0.0</td>\n",
              "      <td>2017-03-31T23:44:00</td>\n",
              "      <td>3082.0</td>\n",
              "      <td>34.046520</td>\n",
              "      <td>-118.237411</td>\n",
              "      <td>23660991</td>\n",
              "      <td>One Way</td>\n",
              "    </tr>\n",
              "    <tr>\n",
              "      <th>132425</th>\n",
              "      <td>5900.0</td>\n",
              "      <td>420</td>\n",
              "      <td>2017-03-31T23:52:00</td>\n",
              "      <td>3054.0</td>\n",
              "      <td>34.039219</td>\n",
              "      <td>-118.236488</td>\n",
              "      <td>Walk-up</td>\n",
              "      <td>0.0</td>\n",
              "      <td>2017-03-31T23:45:00</td>\n",
              "      <td>3082.0</td>\n",
              "      <td>34.046520</td>\n",
              "      <td>-118.237411</td>\n",
              "      <td>23660990</td>\n",
              "      <td>One Way</td>\n",
              "    </tr>\n",
              "    <tr>\n",
              "      <th>132426</th>\n",
              "      <td>6207.0</td>\n",
              "      <td>1260</td>\n",
              "      <td>2017-04-01T00:06:00</td>\n",
              "      <td>3029.0</td>\n",
              "      <td>34.048851</td>\n",
              "      <td>-118.246422</td>\n",
              "      <td>Walk-up</td>\n",
              "      <td>0.0</td>\n",
              "      <td>2017-03-31T23:45:00</td>\n",
              "      <td>3078.0</td>\n",
              "      <td>34.064281</td>\n",
              "      <td>-118.238937</td>\n",
              "      <td>23664826</td>\n",
              "      <td>One Way</td>\n",
              "    </tr>\n",
              "  </tbody>\n",
              "</table>\n",
              "<p>132427 rows × 14 columns</p>\n",
              "</div>"
            ],
            "text/plain": [
              "        Bike ID  Duration             End Time  Ending Station ID  \\\n",
              "0        6281.0       180  2016-07-07T04:20:00             3014.0   \n",
              "1        6281.0      1980  2016-07-07T06:33:00             3014.0   \n",
              "2        5861.0       300  2016-07-07T10:37:00             3016.0   \n",
              "3        5861.0     10860  2016-07-07T13:38:00             3016.0   \n",
              "4        6674.0       420  2016-07-07T12:58:00             3032.0   \n",
              "...         ...       ...                  ...                ...   \n",
              "132422   5978.0       540  2017-03-31T23:52:00             3035.0   \n",
              "132423   6478.0       480  2017-03-31T23:52:00             3035.0   \n",
              "132424   6183.0       480  2017-03-31T23:52:00             3054.0   \n",
              "132425   5900.0       420  2017-03-31T23:52:00             3054.0   \n",
              "132426   6207.0      1260  2017-04-01T00:06:00             3029.0   \n",
              "\n",
              "        Ending Station Latitude  Ending Station Longitude Passholder Type  \\\n",
              "0                     34.056610               -118.237210    Monthly Pass   \n",
              "1                     34.056610               -118.237210    Monthly Pass   \n",
              "2                     34.052898               -118.241560       Flex Pass   \n",
              "3                     34.052898               -118.241560       Flex Pass   \n",
              "4                     34.049889               -118.255880         Walk-up   \n",
              "...                         ...                       ...             ...   \n",
              "132422                34.048401               -118.260948         Walk-up   \n",
              "132423                34.048401               -118.260948         Walk-up   \n",
              "132424                34.039219               -118.236488         Walk-up   \n",
              "132425                34.039219               -118.236488         Walk-up   \n",
              "132426                34.048851               -118.246422         Walk-up   \n",
              "\n",
              "        Plan Duration           Start Time  Starting Station ID  \\\n",
              "0                30.0  2016-07-07T04:17:00               3014.0   \n",
              "1                30.0  2016-07-07T06:00:00               3014.0   \n",
              "2               365.0  2016-07-07T10:32:00               3016.0   \n",
              "3               365.0  2016-07-07T10:37:00               3016.0   \n",
              "4                 0.0  2016-07-07T12:51:00               3032.0   \n",
              "...               ...                  ...                  ...   \n",
              "132422            0.0  2017-03-31T23:43:00               3055.0   \n",
              "132423            0.0  2017-03-31T23:44:00               3055.0   \n",
              "132424            0.0  2017-03-31T23:44:00               3082.0   \n",
              "132425            0.0  2017-03-31T23:45:00               3082.0   \n",
              "132426            0.0  2017-03-31T23:45:00               3078.0   \n",
              "\n",
              "        Starting Station Latitude  Starting Station Longitude   Trip ID  \\\n",
              "0                       34.056610                 -118.237210   1912818   \n",
              "1                       34.056610                 -118.237210   1919661   \n",
              "2                       34.052898                 -118.241560   1933383   \n",
              "3                       34.052898                 -118.241560   1944197   \n",
              "4                       34.049889                 -118.255880   1940317   \n",
              "...                           ...                         ...       ...   \n",
              "132422                  34.044159                 -118.251579  23660993   \n",
              "132423                  34.044159                 -118.251579  23660992   \n",
              "132424                  34.046520                 -118.237411  23660991   \n",
              "132425                  34.046520                 -118.237411  23660990   \n",
              "132426                  34.064281                 -118.238937  23664826   \n",
              "\n",
              "       Trip Route Category  \n",
              "0               Round Trip  \n",
              "1               Round Trip  \n",
              "2               Round Trip  \n",
              "3               Round Trip  \n",
              "4               Round Trip  \n",
              "...                    ...  \n",
              "132422             One Way  \n",
              "132423             One Way  \n",
              "132424             One Way  \n",
              "132425             One Way  \n",
              "132426             One Way  \n",
              "\n",
              "[132427 rows x 14 columns]"
            ]
          },
          "execution_count": 286,
          "metadata": {},
          "output_type": "execute_result"
        }
      ],
      "source": [
        "df_bike = pd.read_json('data/bikes/metro-bike-share-trip-data.json')\n",
        "df_bike"
      ]
    },
    {
      "cell_type": "markdown",
      "id": "8c637c0b",
      "metadata": {
        "id": "8c637c0b"
      },
      "source": [
        "### 2. Cleaning phase\n",
        "\n",
        "Perform the following actions on the dataset.\n",
        "\n",
        "1. Describe the type and the value range of each attribute.  \n",
        "\n",
        "2. Indicate and transform the attributes that are `Categorical`.\n",
        "3. Are there redundant columns in the dataset (i.e., are there columns whose value depends only on the value of another column)?\n",
        "4. What are the possible pitfalls of having such columns?\n",
        "\n",
        "Reduce *data redundancy* by extracting such columns to separate `DataFrames`. Which of the two formats (the initial one or the one with reduced data redundancy) is more susceptible to inconsistencies? At the end print for each `Dataframe` the *type of each column* and it's *shape*."
      ]
    },
    {
      "cell_type": "markdown",
      "id": "f86c7694",
      "metadata": {
        "id": "f86c7694"
      },
      "source": [
        "#### 1. Describe the type and the value range of each attribute.  \n"
      ]
    },
    {
      "cell_type": "code",
      "execution_count": null,
      "id": "e23e9f53",
      "metadata": {
        "id": "e23e9f53",
        "outputId": "959aa076-dccd-44ca-deae-d0915cbfb867"
      },
      "outputs": [
        {
          "name": "stdout",
          "output_type": "stream",
          "text": [
            "<class 'pandas.core.frame.DataFrame'>\n",
            "RangeIndex: 132427 entries, 0 to 132426\n",
            "Data columns (total 14 columns):\n",
            " #   Column                      Non-Null Count   Dtype  \n",
            "---  ------                      --------------   -----  \n",
            " 0   Bike ID                     132417 non-null  float64\n",
            " 1   Duration                    132427 non-null  int64  \n",
            " 2   End Time                    132427 non-null  object \n",
            " 3   Ending Station ID           132331 non-null  float64\n",
            " 4   Ending Station Latitude     131376 non-null  float64\n",
            " 5   Ending Station Longitude    131376 non-null  float64\n",
            " 6   Passholder Type             132427 non-null  object \n",
            " 7   Plan Duration               131661 non-null  float64\n",
            " 8   Start Time                  132427 non-null  object \n",
            " 9   Starting Station ID         132408 non-null  float64\n",
            " 10  Starting Station Latitude   132379 non-null  float64\n",
            " 11  Starting Station Longitude  132379 non-null  float64\n",
            " 12  Trip ID                     132427 non-null  int64  \n",
            " 13  Trip Route Category         132427 non-null  object \n",
            "dtypes: float64(8), int64(2), object(4)\n",
            "memory usage: 14.1+ MB\n"
          ]
        }
      ],
      "source": [
        "# 1\n",
        "df_bike.info()"
      ]
    },
    {
      "cell_type": "markdown",
      "id": "92535580",
      "metadata": {
        "id": "92535580"
      },
      "source": [
        "So this dataset has null values"
      ]
    },
    {
      "cell_type": "code",
      "execution_count": null,
      "id": "07ee5124",
      "metadata": {
        "id": "07ee5124",
        "outputId": "c3a121b7-9de3-48a3-8201-7f9ed6a9eb72"
      },
      "outputs": [
        {
          "name": "stdout",
          "output_type": "stream",
          "text": [
            "Bike ID                         10\n",
            "Duration                         0\n",
            "End Time                         0\n",
            "Ending Station ID               96\n",
            "Ending Station Latitude       1051\n",
            "Ending Station Longitude      1051\n",
            "Passholder Type                  0\n",
            "Plan Duration                  766\n",
            "Start Time                       0\n",
            "Starting Station ID             19\n",
            "Starting Station Latitude       48\n",
            "Starting Station Longitude      48\n",
            "Trip ID                          0\n",
            "Trip Route Category              0\n",
            "dtype: int64\n",
            "##-----------------------------------\n",
            "Bike ID                         10\n",
            "Duration                         0\n",
            "End Time                         0\n",
            "Ending Station ID               96\n",
            "Ending Station Latitude       1051\n",
            "Ending Station Longitude      1051\n",
            "Passholder Type                  0\n",
            "Plan Duration                  766\n",
            "Start Time                       0\n",
            "Starting Station ID             19\n",
            "Starting Station Latitude       48\n",
            "Starting Station Longitude      48\n",
            "Trip ID                          0\n",
            "Trip Route Category              0\n",
            "dtype: int64\n"
          ]
        }
      ],
      "source": [
        "print(df_bike.isnull().sum())\n",
        "print('##-----------------------------------')\n",
        "print(df_bike.isna().sum())"
      ]
    },
    {
      "cell_type": "markdown",
      "id": "5d30d779",
      "metadata": {
        "id": "5d30d779"
      },
      "source": [
        "Consider the number of null and nan values and the number of all of dataset, we can drop null values."
      ]
    },
    {
      "cell_type": "code",
      "execution_count": null,
      "id": "061cdc71",
      "metadata": {
        "id": "061cdc71",
        "outputId": "36cf1552-de23-47bb-b91a-0f0851e83c52"
      },
      "outputs": [
        {
          "name": "stdout",
          "output_type": "stream",
          "text": [
            "Bike ID                       0\n",
            "Duration                      0\n",
            "End Time                      0\n",
            "Ending Station ID             0\n",
            "Ending Station Latitude       0\n",
            "Ending Station Longitude      0\n",
            "Passholder Type               0\n",
            "Plan Duration                 0\n",
            "Start Time                    0\n",
            "Starting Station ID           0\n",
            "Starting Station Latitude     0\n",
            "Starting Station Longitude    0\n",
            "Trip ID                       0\n",
            "Trip Route Category           0\n",
            "dtype: int64\n",
            "##-----------------------------------\n",
            "Bike ID                       0\n",
            "Duration                      0\n",
            "End Time                      0\n",
            "Ending Station ID             0\n",
            "Ending Station Latitude       0\n",
            "Ending Station Longitude      0\n",
            "Passholder Type               0\n",
            "Plan Duration                 0\n",
            "Start Time                    0\n",
            "Starting Station ID           0\n",
            "Starting Station Latitude     0\n",
            "Starting Station Longitude    0\n",
            "Trip ID                       0\n",
            "Trip Route Category           0\n",
            "dtype: int64\n"
          ]
        }
      ],
      "source": [
        "df_bike = df_bike.dropna()\n",
        "print(df_bike.isnull().sum())\n",
        "print('##-----------------------------------')\n",
        "print(df_bike.isna().sum())"
      ]
    },
    {
      "cell_type": "markdown",
      "id": "e1126be7",
      "metadata": {
        "id": "e1126be7"
      },
      "source": [
        "Obviously we can show the value range of numerical features. But maby we want to explore features which are not numerical, so if you want them please say me :). Therefore:"
      ]
    },
    {
      "cell_type": "code",
      "execution_count": null,
      "id": "3bd78b9c",
      "metadata": {
        "id": "3bd78b9c",
        "outputId": "163b7c00-bb52-4711-a913-88b2525a0c57"
      },
      "outputs": [
        {
          "data": {
            "text/html": [
              "<div>\n",
              "<style scoped>\n",
              "    .dataframe tbody tr th:only-of-type {\n",
              "        vertical-align: middle;\n",
              "    }\n",
              "\n",
              "    .dataframe tbody tr th {\n",
              "        vertical-align: top;\n",
              "    }\n",
              "\n",
              "    .dataframe thead th {\n",
              "        text-align: right;\n",
              "    }\n",
              "</style>\n",
              "<table border=\"1\" class=\"dataframe\">\n",
              "  <thead>\n",
              "    <tr style=\"text-align: right;\">\n",
              "      <th></th>\n",
              "      <th>Bike ID</th>\n",
              "      <th>Duration</th>\n",
              "      <th>Ending Station ID</th>\n",
              "      <th>Ending Station Latitude</th>\n",
              "      <th>Ending Station Longitude</th>\n",
              "      <th>Plan Duration</th>\n",
              "      <th>Starting Station ID</th>\n",
              "      <th>Starting Station Latitude</th>\n",
              "      <th>Starting Station Longitude</th>\n",
              "      <th>Trip ID</th>\n",
              "    </tr>\n",
              "  </thead>\n",
              "  <tbody>\n",
              "    <tr>\n",
              "      <th>count</th>\n",
              "      <td>132417.000000</td>\n",
              "      <td>132427.000000</td>\n",
              "      <td>132331.00000</td>\n",
              "      <td>131376.000000</td>\n",
              "      <td>131376.000000</td>\n",
              "      <td>131661.000000</td>\n",
              "      <td>132408.000000</td>\n",
              "      <td>132379.000000</td>\n",
              "      <td>132379.000000</td>\n",
              "      <td>1.324270e+05</td>\n",
              "    </tr>\n",
              "    <tr>\n",
              "      <th>mean</th>\n",
              "      <td>6193.618878</td>\n",
              "      <td>1555.301562</td>\n",
              "      <td>3042.38672</td>\n",
              "      <td>34.034614</td>\n",
              "      <td>-118.206642</td>\n",
              "      <td>44.821967</td>\n",
              "      <td>3043.020754</td>\n",
              "      <td>34.039309</td>\n",
              "      <td>-118.221534</td>\n",
              "      <td>1.153001e+07</td>\n",
              "    </tr>\n",
              "    <tr>\n",
              "      <th>std</th>\n",
              "      <td>293.606755</td>\n",
              "      <td>5814.241813</td>\n",
              "      <td>43.08440</td>\n",
              "      <td>0.650706</td>\n",
              "      <td>2.259913</td>\n",
              "      <td>90.411579</td>\n",
              "      <td>37.742021</td>\n",
              "      <td>0.529336</td>\n",
              "      <td>1.838335</td>\n",
              "      <td>6.369462e+06</td>\n",
              "    </tr>\n",
              "    <tr>\n",
              "      <th>min</th>\n",
              "      <td>1349.000000</td>\n",
              "      <td>60.000000</td>\n",
              "      <td>3000.00000</td>\n",
              "      <td>0.000000</td>\n",
              "      <td>-118.472832</td>\n",
              "      <td>0.000000</td>\n",
              "      <td>3000.000000</td>\n",
              "      <td>0.000000</td>\n",
              "      <td>-118.472832</td>\n",
              "      <td>1.912818e+06</td>\n",
              "    </tr>\n",
              "    <tr>\n",
              "      <th>25%</th>\n",
              "      <td>5953.000000</td>\n",
              "      <td>360.000000</td>\n",
              "      <td>3022.00000</td>\n",
              "      <td>34.044159</td>\n",
              "      <td>-118.256981</td>\n",
              "      <td>0.000000</td>\n",
              "      <td>3024.000000</td>\n",
              "      <td>34.044170</td>\n",
              "      <td>-118.256980</td>\n",
              "      <td>5.060814e+06</td>\n",
              "    </tr>\n",
              "    <tr>\n",
              "      <th>50%</th>\n",
              "      <td>6186.000000</td>\n",
              "      <td>600.000000</td>\n",
              "      <td>3038.00000</td>\n",
              "      <td>34.046810</td>\n",
              "      <td>-118.250954</td>\n",
              "      <td>30.000000</td>\n",
              "      <td>3040.000000</td>\n",
              "      <td>34.046822</td>\n",
              "      <td>-118.250954</td>\n",
              "      <td>1.043827e+07</td>\n",
              "    </tr>\n",
              "    <tr>\n",
              "      <th>75%</th>\n",
              "      <td>6434.000000</td>\n",
              "      <td>1080.000000</td>\n",
              "      <td>3063.00000</td>\n",
              "      <td>34.050480</td>\n",
              "      <td>-118.238810</td>\n",
              "      <td>30.000000</td>\n",
              "      <td>3063.000000</td>\n",
              "      <td>34.050880</td>\n",
              "      <td>-118.241562</td>\n",
              "      <td>1.720633e+07</td>\n",
              "    </tr>\n",
              "    <tr>\n",
              "      <th>max</th>\n",
              "      <td>6728.000000</td>\n",
              "      <td>86400.000000</td>\n",
              "      <td>4108.00000</td>\n",
              "      <td>34.064281</td>\n",
              "      <td>0.000000</td>\n",
              "      <td>365.000000</td>\n",
              "      <td>4108.000000</td>\n",
              "      <td>34.064281</td>\n",
              "      <td>0.000000</td>\n",
              "      <td>2.379422e+07</td>\n",
              "    </tr>\n",
              "  </tbody>\n",
              "</table>\n",
              "</div>"
            ],
            "text/plain": [
              "             Bike ID       Duration  Ending Station ID  \\\n",
              "count  132417.000000  132427.000000       132331.00000   \n",
              "mean     6193.618878    1555.301562         3042.38672   \n",
              "std       293.606755    5814.241813           43.08440   \n",
              "min      1349.000000      60.000000         3000.00000   \n",
              "25%      5953.000000     360.000000         3022.00000   \n",
              "50%      6186.000000     600.000000         3038.00000   \n",
              "75%      6434.000000    1080.000000         3063.00000   \n",
              "max      6728.000000   86400.000000         4108.00000   \n",
              "\n",
              "       Ending Station Latitude  Ending Station Longitude  Plan Duration  \\\n",
              "count            131376.000000             131376.000000  131661.000000   \n",
              "mean                 34.034614               -118.206642      44.821967   \n",
              "std                   0.650706                  2.259913      90.411579   \n",
              "min                   0.000000               -118.472832       0.000000   \n",
              "25%                  34.044159               -118.256981       0.000000   \n",
              "50%                  34.046810               -118.250954      30.000000   \n",
              "75%                  34.050480               -118.238810      30.000000   \n",
              "max                  34.064281                  0.000000     365.000000   \n",
              "\n",
              "       Starting Station ID  Starting Station Latitude  \\\n",
              "count        132408.000000              132379.000000   \n",
              "mean           3043.020754                  34.039309   \n",
              "std              37.742021                   0.529336   \n",
              "min            3000.000000                   0.000000   \n",
              "25%            3024.000000                  34.044170   \n",
              "50%            3040.000000                  34.046822   \n",
              "75%            3063.000000                  34.050880   \n",
              "max            4108.000000                  34.064281   \n",
              "\n",
              "       Starting Station Longitude       Trip ID  \n",
              "count               132379.000000  1.324270e+05  \n",
              "mean                  -118.221534  1.153001e+07  \n",
              "std                      1.838335  6.369462e+06  \n",
              "min                   -118.472832  1.912818e+06  \n",
              "25%                   -118.256980  5.060814e+06  \n",
              "50%                   -118.250954  1.043827e+07  \n",
              "75%                   -118.241562  1.720633e+07  \n",
              "max                      0.000000  2.379422e+07  "
            ]
          },
          "execution_count": 163,
          "metadata": {},
          "output_type": "execute_result"
        }
      ],
      "source": [
        "df_bike.describe()"
      ]
    },
    {
      "cell_type": "markdown",
      "id": "6cea51ac",
      "metadata": {
        "id": "6cea51ac"
      },
      "source": [
        "Of course this output does not give more information to us!"
      ]
    },
    {
      "cell_type": "markdown",
      "id": "68a1f57b",
      "metadata": {
        "id": "68a1f57b"
      },
      "source": [
        "#### 2. Indicate and transform the attributes that are `Categorical`.\n"
      ]
    },
    {
      "cell_type": "code",
      "execution_count": null,
      "id": "4ae7aa29",
      "metadata": {
        "id": "4ae7aa29",
        "outputId": "84f954d1-645e-468d-884e-4749a82b5305"
      },
      "outputs": [
        {
          "data": {
            "text/html": [
              "<div>\n",
              "<style scoped>\n",
              "    .dataframe tbody tr th:only-of-type {\n",
              "        vertical-align: middle;\n",
              "    }\n",
              "\n",
              "    .dataframe tbody tr th {\n",
              "        vertical-align: top;\n",
              "    }\n",
              "\n",
              "    .dataframe thead th {\n",
              "        text-align: right;\n",
              "    }\n",
              "</style>\n",
              "<table border=\"1\" class=\"dataframe\">\n",
              "  <thead>\n",
              "    <tr style=\"text-align: right;\">\n",
              "      <th></th>\n",
              "      <th>Bike ID</th>\n",
              "      <th>Duration</th>\n",
              "      <th>End Time</th>\n",
              "      <th>Ending Station ID</th>\n",
              "      <th>Ending Station Latitude</th>\n",
              "      <th>Ending Station Longitude</th>\n",
              "      <th>Passholder Type</th>\n",
              "      <th>Plan Duration</th>\n",
              "      <th>Start Time</th>\n",
              "      <th>Starting Station ID</th>\n",
              "      <th>Starting Station Latitude</th>\n",
              "      <th>Starting Station Longitude</th>\n",
              "      <th>Trip ID</th>\n",
              "      <th>Trip Route Category</th>\n",
              "    </tr>\n",
              "  </thead>\n",
              "  <tbody>\n",
              "    <tr>\n",
              "      <th>0</th>\n",
              "      <td>6281.0</td>\n",
              "      <td>180</td>\n",
              "      <td>2016-07-07T04:20:00</td>\n",
              "      <td>3014.0</td>\n",
              "      <td>34.056610</td>\n",
              "      <td>-118.237210</td>\n",
              "      <td>Monthly Pass</td>\n",
              "      <td>30.0</td>\n",
              "      <td>2016-07-07T04:17:00</td>\n",
              "      <td>3014.0</td>\n",
              "      <td>34.056610</td>\n",
              "      <td>-118.237210</td>\n",
              "      <td>1912818</td>\n",
              "      <td>Round Trip</td>\n",
              "    </tr>\n",
              "    <tr>\n",
              "      <th>1</th>\n",
              "      <td>6281.0</td>\n",
              "      <td>1980</td>\n",
              "      <td>2016-07-07T06:33:00</td>\n",
              "      <td>3014.0</td>\n",
              "      <td>34.056610</td>\n",
              "      <td>-118.237210</td>\n",
              "      <td>Monthly Pass</td>\n",
              "      <td>30.0</td>\n",
              "      <td>2016-07-07T06:00:00</td>\n",
              "      <td>3014.0</td>\n",
              "      <td>34.056610</td>\n",
              "      <td>-118.237210</td>\n",
              "      <td>1919661</td>\n",
              "      <td>Round Trip</td>\n",
              "    </tr>\n",
              "    <tr>\n",
              "      <th>2</th>\n",
              "      <td>5861.0</td>\n",
              "      <td>300</td>\n",
              "      <td>2016-07-07T10:37:00</td>\n",
              "      <td>3016.0</td>\n",
              "      <td>34.052898</td>\n",
              "      <td>-118.241560</td>\n",
              "      <td>Flex Pass</td>\n",
              "      <td>365.0</td>\n",
              "      <td>2016-07-07T10:32:00</td>\n",
              "      <td>3016.0</td>\n",
              "      <td>34.052898</td>\n",
              "      <td>-118.241560</td>\n",
              "      <td>1933383</td>\n",
              "      <td>Round Trip</td>\n",
              "    </tr>\n",
              "    <tr>\n",
              "      <th>3</th>\n",
              "      <td>5861.0</td>\n",
              "      <td>10860</td>\n",
              "      <td>2016-07-07T13:38:00</td>\n",
              "      <td>3016.0</td>\n",
              "      <td>34.052898</td>\n",
              "      <td>-118.241560</td>\n",
              "      <td>Flex Pass</td>\n",
              "      <td>365.0</td>\n",
              "      <td>2016-07-07T10:37:00</td>\n",
              "      <td>3016.0</td>\n",
              "      <td>34.052898</td>\n",
              "      <td>-118.241560</td>\n",
              "      <td>1944197</td>\n",
              "      <td>Round Trip</td>\n",
              "    </tr>\n",
              "    <tr>\n",
              "      <th>4</th>\n",
              "      <td>6674.0</td>\n",
              "      <td>420</td>\n",
              "      <td>2016-07-07T12:58:00</td>\n",
              "      <td>3032.0</td>\n",
              "      <td>34.049889</td>\n",
              "      <td>-118.255880</td>\n",
              "      <td>Walk-up</td>\n",
              "      <td>0.0</td>\n",
              "      <td>2016-07-07T12:51:00</td>\n",
              "      <td>3032.0</td>\n",
              "      <td>34.049889</td>\n",
              "      <td>-118.255880</td>\n",
              "      <td>1940317</td>\n",
              "      <td>Round Trip</td>\n",
              "    </tr>\n",
              "    <tr>\n",
              "      <th>...</th>\n",
              "      <td>...</td>\n",
              "      <td>...</td>\n",
              "      <td>...</td>\n",
              "      <td>...</td>\n",
              "      <td>...</td>\n",
              "      <td>...</td>\n",
              "      <td>...</td>\n",
              "      <td>...</td>\n",
              "      <td>...</td>\n",
              "      <td>...</td>\n",
              "      <td>...</td>\n",
              "      <td>...</td>\n",
              "      <td>...</td>\n",
              "      <td>...</td>\n",
              "    </tr>\n",
              "    <tr>\n",
              "      <th>132422</th>\n",
              "      <td>5978.0</td>\n",
              "      <td>540</td>\n",
              "      <td>2017-03-31T23:52:00</td>\n",
              "      <td>3035.0</td>\n",
              "      <td>34.048401</td>\n",
              "      <td>-118.260948</td>\n",
              "      <td>Walk-up</td>\n",
              "      <td>0.0</td>\n",
              "      <td>2017-03-31T23:43:00</td>\n",
              "      <td>3055.0</td>\n",
              "      <td>34.044159</td>\n",
              "      <td>-118.251579</td>\n",
              "      <td>23660993</td>\n",
              "      <td>One Way</td>\n",
              "    </tr>\n",
              "    <tr>\n",
              "      <th>132423</th>\n",
              "      <td>6478.0</td>\n",
              "      <td>480</td>\n",
              "      <td>2017-03-31T23:52:00</td>\n",
              "      <td>3035.0</td>\n",
              "      <td>34.048401</td>\n",
              "      <td>-118.260948</td>\n",
              "      <td>Walk-up</td>\n",
              "      <td>0.0</td>\n",
              "      <td>2017-03-31T23:44:00</td>\n",
              "      <td>3055.0</td>\n",
              "      <td>34.044159</td>\n",
              "      <td>-118.251579</td>\n",
              "      <td>23660992</td>\n",
              "      <td>One Way</td>\n",
              "    </tr>\n",
              "    <tr>\n",
              "      <th>132424</th>\n",
              "      <td>6183.0</td>\n",
              "      <td>480</td>\n",
              "      <td>2017-03-31T23:52:00</td>\n",
              "      <td>3054.0</td>\n",
              "      <td>34.039219</td>\n",
              "      <td>-118.236488</td>\n",
              "      <td>Walk-up</td>\n",
              "      <td>0.0</td>\n",
              "      <td>2017-03-31T23:44:00</td>\n",
              "      <td>3082.0</td>\n",
              "      <td>34.046520</td>\n",
              "      <td>-118.237411</td>\n",
              "      <td>23660991</td>\n",
              "      <td>One Way</td>\n",
              "    </tr>\n",
              "    <tr>\n",
              "      <th>132425</th>\n",
              "      <td>5900.0</td>\n",
              "      <td>420</td>\n",
              "      <td>2017-03-31T23:52:00</td>\n",
              "      <td>3054.0</td>\n",
              "      <td>34.039219</td>\n",
              "      <td>-118.236488</td>\n",
              "      <td>Walk-up</td>\n",
              "      <td>0.0</td>\n",
              "      <td>2017-03-31T23:45:00</td>\n",
              "      <td>3082.0</td>\n",
              "      <td>34.046520</td>\n",
              "      <td>-118.237411</td>\n",
              "      <td>23660990</td>\n",
              "      <td>One Way</td>\n",
              "    </tr>\n",
              "    <tr>\n",
              "      <th>132426</th>\n",
              "      <td>6207.0</td>\n",
              "      <td>1260</td>\n",
              "      <td>2017-04-01T00:06:00</td>\n",
              "      <td>3029.0</td>\n",
              "      <td>34.048851</td>\n",
              "      <td>-118.246422</td>\n",
              "      <td>Walk-up</td>\n",
              "      <td>0.0</td>\n",
              "      <td>2017-03-31T23:45:00</td>\n",
              "      <td>3078.0</td>\n",
              "      <td>34.064281</td>\n",
              "      <td>-118.238937</td>\n",
              "      <td>23664826</td>\n",
              "      <td>One Way</td>\n",
              "    </tr>\n",
              "  </tbody>\n",
              "</table>\n",
              "<p>132427 rows × 14 columns</p>\n",
              "</div>"
            ],
            "text/plain": [
              "        Bike ID  Duration             End Time  Ending Station ID  \\\n",
              "0        6281.0       180  2016-07-07T04:20:00             3014.0   \n",
              "1        6281.0      1980  2016-07-07T06:33:00             3014.0   \n",
              "2        5861.0       300  2016-07-07T10:37:00             3016.0   \n",
              "3        5861.0     10860  2016-07-07T13:38:00             3016.0   \n",
              "4        6674.0       420  2016-07-07T12:58:00             3032.0   \n",
              "...         ...       ...                  ...                ...   \n",
              "132422   5978.0       540  2017-03-31T23:52:00             3035.0   \n",
              "132423   6478.0       480  2017-03-31T23:52:00             3035.0   \n",
              "132424   6183.0       480  2017-03-31T23:52:00             3054.0   \n",
              "132425   5900.0       420  2017-03-31T23:52:00             3054.0   \n",
              "132426   6207.0      1260  2017-04-01T00:06:00             3029.0   \n",
              "\n",
              "        Ending Station Latitude  Ending Station Longitude Passholder Type  \\\n",
              "0                     34.056610               -118.237210    Monthly Pass   \n",
              "1                     34.056610               -118.237210    Monthly Pass   \n",
              "2                     34.052898               -118.241560       Flex Pass   \n",
              "3                     34.052898               -118.241560       Flex Pass   \n",
              "4                     34.049889               -118.255880         Walk-up   \n",
              "...                         ...                       ...             ...   \n",
              "132422                34.048401               -118.260948         Walk-up   \n",
              "132423                34.048401               -118.260948         Walk-up   \n",
              "132424                34.039219               -118.236488         Walk-up   \n",
              "132425                34.039219               -118.236488         Walk-up   \n",
              "132426                34.048851               -118.246422         Walk-up   \n",
              "\n",
              "        Plan Duration           Start Time  Starting Station ID  \\\n",
              "0                30.0  2016-07-07T04:17:00               3014.0   \n",
              "1                30.0  2016-07-07T06:00:00               3014.0   \n",
              "2               365.0  2016-07-07T10:32:00               3016.0   \n",
              "3               365.0  2016-07-07T10:37:00               3016.0   \n",
              "4                 0.0  2016-07-07T12:51:00               3032.0   \n",
              "...               ...                  ...                  ...   \n",
              "132422            0.0  2017-03-31T23:43:00               3055.0   \n",
              "132423            0.0  2017-03-31T23:44:00               3055.0   \n",
              "132424            0.0  2017-03-31T23:44:00               3082.0   \n",
              "132425            0.0  2017-03-31T23:45:00               3082.0   \n",
              "132426            0.0  2017-03-31T23:45:00               3078.0   \n",
              "\n",
              "        Starting Station Latitude  Starting Station Longitude   Trip ID  \\\n",
              "0                       34.056610                 -118.237210   1912818   \n",
              "1                       34.056610                 -118.237210   1919661   \n",
              "2                       34.052898                 -118.241560   1933383   \n",
              "3                       34.052898                 -118.241560   1944197   \n",
              "4                       34.049889                 -118.255880   1940317   \n",
              "...                           ...                         ...       ...   \n",
              "132422                  34.044159                 -118.251579  23660993   \n",
              "132423                  34.044159                 -118.251579  23660992   \n",
              "132424                  34.046520                 -118.237411  23660991   \n",
              "132425                  34.046520                 -118.237411  23660990   \n",
              "132426                  34.064281                 -118.238937  23664826   \n",
              "\n",
              "       Trip Route Category  \n",
              "0               Round Trip  \n",
              "1               Round Trip  \n",
              "2               Round Trip  \n",
              "3               Round Trip  \n",
              "4               Round Trip  \n",
              "...                    ...  \n",
              "132422             One Way  \n",
              "132423             One Way  \n",
              "132424             One Way  \n",
              "132425             One Way  \n",
              "132426             One Way  \n",
              "\n",
              "[132427 rows x 14 columns]"
            ]
          },
          "execution_count": 287,
          "metadata": {},
          "output_type": "execute_result"
        }
      ],
      "source": [
        "df_bike"
      ]
    },
    {
      "cell_type": "code",
      "execution_count": null,
      "id": "4fd1587b",
      "metadata": {
        "id": "4fd1587b",
        "outputId": "ce614f8e-baea-4cc5-f0a8-26daf33aecd2"
      },
      "outputs": [
        {
          "name": "stdout",
          "output_type": "stream",
          "text": [
            "Category of Passholder Type column is: ['Monthly Pass' 'Flex Pass' 'Walk-up' 'Staff Annual']\n",
            "Category of Trip Route Category column is: ['Round Trip' 'One Way']\n"
          ]
        }
      ],
      "source": [
        "categorical_attributes = ['Passholder Type', 'Trip Route Category']\n",
        "df_bike['Passholder Type'].unique()\n",
        "print(f'Category of {categorical_attributes[0]} column is: {df_bike[categorical_attributes[0]].unique()}')\n",
        "print(f'Category of {categorical_attributes[1]} column is: {df_bike[categorical_attributes[1]].unique()}')"
      ]
    },
    {
      "cell_type": "code",
      "execution_count": null,
      "id": "b6fc54a5",
      "metadata": {
        "id": "b6fc54a5",
        "outputId": "e07341c4-a6fb-4d52-a8e6-5667f6605495"
      },
      "outputs": [
        {
          "name": "stdout",
          "output_type": "stream",
          "text": [
            "Category of Passholder Type column is: [1 0 3 2]\n",
            "Category of Trip Route Category column is: [1 0]\n"
          ]
        }
      ],
      "source": [
        "# Create a label encoder\n",
        "label_encoder = LabelEncoder()\n",
        "\n",
        "# Apply label encoding to the column\n",
        "for x in categorical_attributes:\n",
        "    df_bike[x] = label_encoder.fit_transform(df_bike[x])\n",
        "\n",
        "print(f'Category of {categorical_attributes[0]} column is: {df_bike[categorical_attributes[0]].unique()}')\n",
        "print(f'Category of {categorical_attributes[1]} column is: {df_bike[categorical_attributes[1]].unique()}')"
      ]
    },
    {
      "cell_type": "markdown",
      "id": "e9f63051",
      "metadata": {
        "id": "e9f63051"
      },
      "source": [
        "#### 3. Are there redundant columns in the dataset (i.e., are there columns whose value depends only on the value of another column)?"
      ]
    },
    {
      "cell_type": "markdown",
      "id": "6f91669f",
      "metadata": {
        "id": "6f91669f"
      },
      "source": [
        "Yes:\n",
        "\n",
        "- `Duration`. We can calculate duration using 'start time' and 'end time'.\n",
        "- `Plan Duration`. We can use from 'Passholder Type' feature.\n",
        "- `Trip Route Category`. We know about starting station and ending station, therefore we know about Trip Route Category!"
      ]
    },
    {
      "cell_type": "markdown",
      "id": "c164080f",
      "metadata": {
        "id": "c164080f"
      },
      "source": [
        "**Explain your approach and assumptions once this section is completed.**"
      ]
    },
    {
      "cell_type": "markdown",
      "id": "872a6f93",
      "metadata": {
        "id": "872a6f93"
      },
      "source": [
        "#### 4. What are the possible pitfalls of having such columns?\n",
        "\n",
        "Having redundant columns in a dataset can lead to several pitfalls and challenges, including:\n",
        "\n",
        "1. **Data Inconsistencies**: One of the most significant pitfalls is the risk of data inconsistencies. Redundant columns can lead to different values in seemingly related data, causing confusion and making it challenging to trust the data's accuracy. Inconsistencies can occur when one redundant column is updated or modified, but the other is not, or when there are data entry errors.\n",
        "\n",
        "2. **Data Integrity Issues**: Redundant columns can result in data integrity problems. It becomes difficult to ensure that the data maintains its correctness and reliability. Data integrity issues can affect the quality of analyses and decision-making based on the data.\n",
        "\n",
        "3. **Storage Overhead**: Redundant columns consume additional storage space. This can be inefficient, especially in large datasets, as it increases storage costs and can slow down data processing and retrieval.\n",
        "\n",
        "4. **Complex Data Maintenance**: Data maintenance becomes more complex with redundant columns. When one piece of data needs to be updated, you must remember to update all related columns to maintain consistency. This increases the likelihood of errors and can be time-consuming.\n",
        "\n",
        "5. **Increased Complexity in Data Analysis**: Redundant columns complicate data analysis. Analysts need to account for the relationships between redundant columns, making queries and analyses more complex and potentially error-prone.\n",
        "\n",
        "6. **Confusion in Data Exploration**: Redundant columns can confuse data explorers who are unfamiliar with the dataset. Without a clear understanding of the redundancy, users may misinterpret the data.\n",
        "\n",
        "7. **Challenges in Data Transformation**: If you need to transform or reshape the data for specific analyses or reporting, redundant columns can make the process more difficult. You may need to consider how transformations affect multiple related columns.\n",
        "\n",
        "8. **Potential for Data Entry Errors**: Redundant columns can increase the potential for data entry errors. When redundant data is entered, there is a risk of inconsistencies or inaccuracies between the duplicated values.\n",
        "\n",
        "9. **Maintaining Data Consistency**: Ensuring data consistency across redundant columns requires strict data governance practices and processes, which can be challenging to establish and maintain.\n",
        "\n",
        "To mitigate these pitfalls, it's generally advisable to remove redundant columns and maintain a single source of truth for each piece of data. This reduces the risk of inconsistencies, simplifies data maintenance, and promotes data integrity. Additionally, it's important to document and communicate data relationships and dependencies within the dataset to avoid confusion and misinterpretation.\n"
      ]
    },
    {
      "cell_type": "markdown",
      "id": "44944899",
      "metadata": {
        "id": "44944899"
      },
      "source": [
        "Reduce *data redundancy* by extracting such columns to separate `DataFrames`. Which of the two formats (the initial one or the one with reduced data redundancy) is more susceptible to inconsistencies? At the end print for each `Dataframe` the *type of each column* and it's *shape*."
      ]
    },
    {
      "cell_type": "code",
      "execution_count": null,
      "id": "4e8eeed2",
      "metadata": {
        "id": "4e8eeed2"
      },
      "outputs": [],
      "source": [
        "redundant_columns = ['Duration', 'Plan Duration', 'Trip Route Category']\n",
        "df_bike_new_by_extraxting_redundant_columns = df_bike.drop(columns=redundant_columns)\n",
        "df_bike_new_by_extraxting_Duration = df_bike.drop(columns=['Duration'])\n",
        "df_bike_new_by_extraxting_Plan_Duration = df_bike.drop(columns=['Plan Duration'])\n",
        "df_bike_new_by_extraxting_Trip_Route_Category = df_bike.drop(columns=['Trip Route Category'])"
      ]
    },
    {
      "cell_type": "code",
      "execution_count": null,
      "id": "9e935fdd",
      "metadata": {
        "id": "9e935fdd",
        "outputId": "77ad137f-215f-430f-aae4-6a023e3110e9"
      },
      "outputs": [
        {
          "name": "stdout",
          "output_type": "stream",
          "text": [
            "DataFrame: Original DataFrame\n",
            "Column Types:\n",
            "Bike ID                       float64\n",
            "Duration                        int64\n",
            "End Time                       object\n",
            "Ending Station ID             float64\n",
            "Ending Station Latitude       float64\n",
            "Ending Station Longitude      float64\n",
            "Passholder Type                 int64\n",
            "Plan Duration                 float64\n",
            "Start Time                     object\n",
            "Starting Station ID           float64\n",
            "Starting Station Latitude     float64\n",
            "Starting Station Longitude    float64\n",
            "Trip ID                         int64\n",
            "Trip Route Category             int64\n",
            "dtype: object\n",
            "Shape:\n",
            "(132427, 14)\n",
            "\n",
            "\n",
            "DataFrame: DataFrame with Reduced Redundancy (all redundant columns)\n",
            "Column Types:\n",
            "Bike ID                       float64\n",
            "End Time                       object\n",
            "Ending Station ID             float64\n",
            "Ending Station Latitude       float64\n",
            "Ending Station Longitude      float64\n",
            "Passholder Type                 int64\n",
            "Plan Duration                 float64\n",
            "Start Time                     object\n",
            "Starting Station ID           float64\n",
            "Starting Station Latitude     float64\n",
            "Starting Station Longitude    float64\n",
            "Trip ID                         int64\n",
            "Trip Route Category             int64\n",
            "dtype: object\n",
            "Shape:\n",
            "(132427, 13)\n",
            "\n",
            "\n",
            "DataFrame: DataFrame with Reduced Redundancy (Duration)\n",
            "Column Types:\n",
            "Bike ID                       float64\n",
            "End Time                       object\n",
            "Ending Station ID             float64\n",
            "Ending Station Latitude       float64\n",
            "Ending Station Longitude      float64\n",
            "Passholder Type                 int64\n",
            "Plan Duration                 float64\n",
            "Start Time                     object\n",
            "Starting Station ID           float64\n",
            "Starting Station Latitude     float64\n",
            "Starting Station Longitude    float64\n",
            "Trip ID                         int64\n",
            "Trip Route Category             int64\n",
            "dtype: object\n",
            "Shape:\n",
            "(132427, 13)\n",
            "\n",
            "\n",
            "DataFrame: DataFrame with Reduced Redundancy (Plan Duration)\n",
            "Column Types:\n",
            "Bike ID                       float64\n",
            "Duration                        int64\n",
            "End Time                       object\n",
            "Ending Station ID             float64\n",
            "Ending Station Latitude       float64\n",
            "Ending Station Longitude      float64\n",
            "Passholder Type                 int64\n",
            "Start Time                     object\n",
            "Starting Station ID           float64\n",
            "Starting Station Latitude     float64\n",
            "Starting Station Longitude    float64\n",
            "Trip ID                         int64\n",
            "Trip Route Category             int64\n",
            "dtype: object\n",
            "Shape:\n",
            "(132427, 13)\n",
            "\n",
            "\n",
            "DataFrame: DataFrame with Reduced Redundancy (Trip Route Category)\n",
            "Column Types:\n",
            "Bike ID                       float64\n",
            "Duration                        int64\n",
            "End Time                       object\n",
            "Ending Station ID             float64\n",
            "Ending Station Latitude       float64\n",
            "Ending Station Longitude      float64\n",
            "Passholder Type                 int64\n",
            "Plan Duration                 float64\n",
            "Start Time                     object\n",
            "Starting Station ID           float64\n",
            "Starting Station Latitude     float64\n",
            "Starting Station Longitude    float64\n",
            "Trip ID                         int64\n",
            "dtype: object\n",
            "Shape:\n",
            "(132427, 13)\n",
            "\n",
            "\n"
          ]
        }
      ],
      "source": [
        "def print_info(df, name):\n",
        "    print(f\"DataFrame: {name}\")\n",
        "    print(\"Column Types:\")\n",
        "    print(df.dtypes)\n",
        "    print(\"Shape:\")\n",
        "    print(df.shape)\n",
        "    print(\"\\n\")\n",
        "\n",
        "# Print information for each DataFrame\n",
        "print_info(df_bike, \"Original DataFrame\")\n",
        "print_info(df_bike_new_by_extraxting_Duration, \"DataFrame with Reduced Redundancy (all redundant columns)\")\n",
        "print_info(df_bike_new_by_extraxting_Duration, \"DataFrame with Reduced Redundancy (Duration)\")\n",
        "print_info(df_bike_new_by_extraxting_Plan_Duration, \"DataFrame with Reduced Redundancy (Plan Duration)\")\n",
        "print_info(df_bike_new_by_extraxting_Trip_Route_Category, \"DataFrame with Reduced Redundancy (Trip Route Category)\")"
      ]
    },
    {
      "cell_type": "markdown",
      "id": "69fafbf3",
      "metadata": {
        "id": "69fafbf3"
      },
      "source": [
        "The initial format, with redundant columns, is more susceptible to inconsistencies. Redundant columns introduce the potential for data inconsistencies because they store the same information in multiple places. When one of the redundant columns is updated or modified, it can lead to discrepancies with the other redundant columns.\n",
        "\n",
        "In the case of the reduced format, where redundant columns have been extracted to separate DataFrames, data redundancy has been reduced. Each piece of data is maintained in a single source of truth, which helps ensure data consistency and reduce the likelihood of inconsistencies.\n",
        "\n",
        "Reducing data redundancy and maintaining a normalized data structure is a best practice in data management to improve data integrity and minimize the risk of inconsistencies and errors."
      ]
    },
    {
      "cell_type": "markdown",
      "id": "b33195a3",
      "metadata": {
        "id": "b33195a3"
      },
      "source": [
        "### 3. Querying phase\n",
        "Answer the following queries using the functionality of `Pandas`.\n",
        "\n",
        "1. Plot the *distribution* of the number of outgoing trips from each station in a histogram with 20 bins (Hint: each bin describes a range of counts, not stations).  \n",
        "\n",
        "2. Plot histograms for the *duration* and *trip starting hour in the day* attributes. For both the *duration*  and the *trip starting hour* use *discrete 1-hour intervals*. What do you observe in each plot? What are some popular values in the *duration* plot? Explain the local maxima and the trends you observe on the *trip starting hour* plot based on human behavior.\n",
        "3. For each *trip route category*, calculate the proportion of trips by *passholder type* and present your results in *a stacked bar chart with normalized height*.\n",
        "4. Considering only trips that begin in the morning hours (before noon), plot in *a single bar chart* the proportion of trips by *passholder type* and *trip route category*. Explain any outliers you observe.\n",
        "5. Separate the hours of the day into two intervals that have (approximately) the same number of bikes leaving the stations. For each of the two intervals calculate the proportion of trips by *passholder type* and *trip route category*. Present your results in a `DataFrame` which has a unique, non-composite index. Does the proportion of trips depend on whether it is the first or second hour interval? Would the company have any significant benefit by creating a more complex paying scheme where monthly pass users would pay less in the first interval and (equally) more on the second one? Assume that the number of trips per interval will not change if the scheme changes."
      ]
    },
    {
      "cell_type": "markdown",
      "id": "fadcc427",
      "metadata": {
        "id": "fadcc427"
      },
      "source": [
        "#### 1. Plot the *distribution* of the number of outgoing trips from each station in a histogram with 20 bins (Hint: each bin describes a range of counts, not stations)."
      ]
    },
    {
      "cell_type": "code",
      "execution_count": null,
      "id": "09c052fe",
      "metadata": {
        "id": "09c052fe",
        "outputId": "46618b3e-f03a-4966-e0a3-44eedc6519aa"
      },
      "outputs": [
        {
          "data": {
            "image/png": "[encoded data removed]",
            "text/plain": [
              "<Figure size 1000x600 with 1 Axes>"
            ]
          },
          "metadata": {},
          "output_type": "display_data"
        }
      ],
      "source": [
        "# Group by 'Starting Station ID' and count the number of trips for each station\n",
        "station_counts = df['Starting Station ID'].value_counts()\n",
        "\n",
        "# Plot the histogram with 20 bins\n",
        "plt.figure(figsize=(10, 6))\n",
        "plt.hist(station_counts, bins=20, edgecolor='k', alpha=0.7)\n",
        "plt.xlabel('Number of Outgoing Trips')\n",
        "plt.ylabel('Count of Stations')\n",
        "plt.title('Distribution of Outgoing Trips from Stations')\n",
        "plt.grid(True)\n",
        "plt.show()"
      ]
    },
    {
      "cell_type": "markdown",
      "id": "82859880",
      "metadata": {
        "id": "82859880"
      },
      "source": [
        "#### 2. Plot histograms for the *duration* and *trip starting hour in the day* attributes. For both the *duration*  and the *trip starting hour* use *discrete 1-hour intervals*. What do you observe in each plot? What are some popular values in the *duration* plot? Explain the local maxima and the trends you observe on the *trip starting hour* plot based on human behavior."
      ]
    },
    {
      "cell_type": "code",
      "execution_count": null,
      "id": "6273bb36",
      "metadata": {
        "id": "6273bb36",
        "outputId": "ae1e9b9c-b28b-41e8-e8de-fbe36b26cf6a"
      },
      "outputs": [
        {
          "name": "stderr",
          "output_type": "stream",
          "text": [
            "/var/folders/c2/3qrgx7c502x0vvp2clb6ztm40000gn/T/ipykernel_16005/968336496.py:3: SettingWithCopyWarning: \n",
            "A value is trying to be set on a copy of a slice from a DataFrame.\n",
            "Try using .loc[row_indexer,col_indexer] = value instead\n",
            "\n",
            "See the caveats in the documentation: https://pandas.pydata.org/pandas-docs/stable/user_guide/indexing.html#returning-a-view-versus-a-copy\n",
            "  df_bike_2_3_2.loc[:, 'Start Time'] = df_bike_2_3_2['Start Time'].str.split('T').str[1]\n",
            "/var/folders/c2/3qrgx7c502x0vvp2clb6ztm40000gn/T/ipykernel_16005/968336496.py:6: SettingWithCopyWarning: \n",
            "A value is trying to be set on a copy of a slice from a DataFrame.\n",
            "Try using .loc[row_indexer,col_indexer] = value instead\n",
            "\n",
            "See the caveats in the documentation: https://pandas.pydata.org/pandas-docs/stable/user_guide/indexing.html#returning-a-view-versus-a-copy\n",
            "  df_bike_2_3_2['Start Hour'] = df_bike_2_3_2['Start Time'].str.extract(r'(\\d{2}):')\n",
            "/var/folders/c2/3qrgx7c502x0vvp2clb6ztm40000gn/T/ipykernel_16005/968336496.py:8: SettingWithCopyWarning: \n",
            "A value is trying to be set on a copy of a slice from a DataFrame.\n",
            "Try using .loc[row_indexer,col_indexer] = value instead\n",
            "\n",
            "See the caveats in the documentation: https://pandas.pydata.org/pandas-docs/stable/user_guide/indexing.html#returning-a-view-versus-a-copy\n",
            "  df_bike_2_3_2['Start Hour'] = df_bike_2_3_2['Start Hour'].astype(int)\n",
            "/var/folders/c2/3qrgx7c502x0vvp2clb6ztm40000gn/T/ipykernel_16005/968336496.py:11: SettingWithCopyWarning: \n",
            "A value is trying to be set on a copy of a slice from a DataFrame.\n",
            "Try using .loc[row_indexer,col_indexer] = value instead\n",
            "\n",
            "See the caveats in the documentation: https://pandas.pydata.org/pandas-docs/stable/user_guide/indexing.html#returning-a-view-versus-a-copy\n",
            "  df_bike_2_3_2['Duration Hours'] = df_bike_2_3_2['Duration'] / 3600\n",
            "/var/folders/c2/3qrgx7c502x0vvp2clb6ztm40000gn/T/ipykernel_16005/968336496.py:13: SettingWithCopyWarning: \n",
            "A value is trying to be set on a copy of a slice from a DataFrame.\n",
            "Try using .loc[row_indexer,col_indexer] = value instead\n",
            "\n",
            "See the caveats in the documentation: https://pandas.pydata.org/pandas-docs/stable/user_guide/indexing.html#returning-a-view-versus-a-copy\n",
            "  df_bike_2_3_2['Duration Hours'] = df_bike_2_3_2['Duration Hours'].round()\n"
          ]
        },
        {
          "data": {
            "image/png": "[encoded data removed]",
            "text/plain": [
              "<Figure size 1200x600 with 2 Axes>"
            ]
          },
          "metadata": {},
          "output_type": "display_data"
        }
      ],
      "source": [
        "df_bike_2_3_2 = df_bike[['Duration', 'Start Time']]\n",
        "# Split the 'Start Time' column at 'T' and select the part after 'T' using .loc\n",
        "df_bike_2_3_2.loc[:, 'Start Time'] = df_bike_2_3_2['Start Time'].str.split('T').str[1]\n",
        "# Now, the 'Start Time' column will contain only the time portiondf\n",
        "# Extract the hour from 'Start Time'\n",
        "df_bike_2_3_2['Start Hour'] = df_bike_2_3_2['Start Time'].str.extract(r'(\\d{2}):')\n",
        "# Convert the extracted hour to integers\n",
        "df_bike_2_3_2['Start Hour'] = df_bike_2_3_2['Start Hour'].astype(int)\n",
        "\n",
        "# Convert the 'Duration' column to hours by dividing by 3600 (seconds in an hour)\n",
        "df_bike_2_3_2['Duration Hours'] = df_bike_2_3_2['Duration'] / 3600\n",
        "# Round the 'Duration Hours' column to the nearest whole hour\n",
        "df_bike_2_3_2['Duration Hours'] = df_bike_2_3_2['Duration Hours'].round()\n",
        "# Calculate the maximum duration in whole hours and cast it to an integer\n",
        "max_duration = int(df_bike_2_3_2['Duration Hours'].max())\n",
        "\n",
        "# Create a sequence of bin edges for 1-hour intervals\n",
        "bin_edges = range(0, max_duration + 2, 1)\n",
        "\n",
        "# Create a histogram for the 'Duration Hours' attribute with 1-hour intervals\n",
        "plt.figure(figsize=(12, 6))\n",
        "plt.subplot(1, 2, 1)\n",
        "plt.hist(df_bike_2_3_2['Duration Hours'], bins=bin_edges, edgecolor='k')\n",
        "plt.xlabel('Duration Hours (Rounded)')\n",
        "plt.ylabel('Number of Trips')\n",
        "plt.title('Distribution of Trip Durations in 1-Hour Intervals')\n",
        "\n",
        "# Create a histogram for the 'Start Hour' attribute with 1-hour intervals\n",
        "plt.subplot(1, 2, 2)\n",
        "plt.hist(df_bike_2_3_2['Start Hour'], bins=range(0, 25), edgecolor='k', rwidth=0.8)\n",
        "plt.xlabel('Starting Hour')\n",
        "plt.ylabel ('Number of Trips')\n",
        "plt.title('Distribution of Trip Starting Hours')\n",
        "plt.xticks(range(24))  # Set x-axis labels to 0-23 (hours)\n",
        "\n",
        "plt.tight_layout()\n",
        "plt.show()"
      ]
    },
    {
      "cell_type": "markdown",
      "id": "5d747fc6",
      "metadata": {
        "id": "5d747fc6"
      },
      "source": [
        "**In the 'Distribution of Trip Durations in 1-Hour Intervals' plot:**\n",
        "\n",
        "**Observations**:\n",
        "- The plot shows that the majority of trip durations are concentrated within the range of 0 to 5 hours, with a noticeable peak in the range of 0 to 2 hours. This suggests that most bike trips are relatively short in duration, and the service is commonly used for short-distance travel or quick commutes.\n",
        "- The most popular values in the duration plot are in the range of 0 to 2 hours, with a local maximum at 1 hour. This peak likely represents a significant number of short trips, such as quick commutes or rides for short errands.\n",
        "- As the duration increases beyond 5 hours, the frequency of trips decreases, indicating that longer trips are less common.\n",
        "\n",
        "**In the 'Distribution of Trip Starting Hours' plot:**\n",
        "\n",
        "**Observations**:\n",
        "- The plot exhibits a bimodal distribution with two distinct peaks.\n",
        "- The first peak is observed in the range [0, 4], with the highest peak at 0 hours (midnight). This suggests that a substantial number of bike trips start at midnight or in the early hours of the morning.\n",
        "- The second peak occurs in the range [4, 24], reflecting a steady increase in the number of trips starting in the morning and throughout the day.\n",
        "- While there is a decrease in the number of trips in the range [0, 4], it is not as significant as the increase observed after 4 hours.\n",
        "\n",
        "**Interpretation**:\n",
        "- The first peak at midnight (0 hours) implies that a group of users utilizes the bike-sharing service late at night or during the early morning hours. This could be attributed to late-night activities, shift work, or other late-night commuting needs.\n",
        "- The second peak from 4 hours onwards signifies the start of the day, with a consistent rise in the number of trips as people begin their daily routines, including commuting to work or school.\n",
        "- The decrease in the number of trips between 0 and 4 hours may be due to a decline in usage during the very early hours of the morning. However, the number of trips in this time range is still relatively substantial compared to the late-night hours.\n",
        "\n",
        "These observations and trends align with human behavior and daily patterns. People use bike-sharing services for various purposes, including commuting, leisure, and quick trips. The data illustrates a preference for shorter trip durations and a surge in bike usage as the day progresses, with lower usage in the early hours of the morning. The bimodal distribution in trip starting hours highlights distinct patterns between late-night and daytime usage, reflecting the diverse needs and schedules of bike-sharing users.\n"
      ]
    },
    {
      "cell_type": "markdown",
      "id": "5d284b68",
      "metadata": {
        "id": "5d284b68"
      },
      "source": [
        "#### 3. For each *trip route category*, calculate the proportion of trips by *passholder type* and present your results in *a stacked bar chart with normalized height*."
      ]
    },
    {
      "cell_type": "code",
      "execution_count": null,
      "id": "08baf76a",
      "metadata": {
        "id": "08baf76a",
        "outputId": "31dd4e3c-1495-4063-b6b6-19892ffad575"
      },
      "outputs": [
        {
          "data": {
            "image/png": "[encoded data removed]",
            "text/plain": [
              "<Figure size 1000x600 with 1 Axes>"
            ]
          },
          "metadata": {},
          "output_type": "display_data"
        }
      ],
      "source": [
        "# Group the data by 'Trip Route Category' and 'Passholder Type' and count the number of trips\n",
        "grouped = df_bike.groupby(['Trip Route Category', 'Passholder Type']).size().unstack()\n",
        "\n",
        "# Normalize the counts to obtain proportions\n",
        "normalized_grouped = grouped.div(grouped.sum(axis=1), axis=0)\n",
        "\n",
        "# Create a stacked bar chart\n",
        "normalized_grouped.plot(kind='bar', stacked=True, figsize=(10, 6))\n",
        "\n",
        "# Customize the chart\n",
        "plt.xlabel('Trip Route Category')\n",
        "plt.ylabel('Proportion of Trips')\n",
        "plt.title('Proportion of Trips by Passholder Type for Each Trip Route Category')\n",
        "\n",
        "# Display the legend\n",
        "plt.legend(title='Passholder Type')\n",
        "\n",
        "# Show the plot\n",
        "plt.show()"
      ]
    },
    {
      "cell_type": "markdown",
      "id": "9c632c55",
      "metadata": {
        "id": "9c632c55"
      },
      "source": [
        "#### 4. Considering only trips that begin in the morning hours (before noon), plot in *a single bar chart* the proportion of trips by *passholder type* and *trip route category*. Explain any outliers you observe."
      ]
    },
    {
      "cell_type": "code",
      "execution_count": null,
      "id": "77536d86",
      "metadata": {
        "id": "77536d86",
        "outputId": "ac5cf6a4-267b-4103-9bd5-232b78a7fa48"
      },
      "outputs": [
        {
          "data": {
            "image/png": "[encoded data removed]",
            "text/plain": [
              "<Figure size 1200x600 with 1 Axes>"
            ]
          },
          "metadata": {},
          "output_type": "display_data"
        }
      ],
      "source": [
        "# Convert 'Start Time' to a datetime object\n",
        "df_bike['Start Time'] = pd.to_datetime(df_bike['Start Time'])\n",
        "\n",
        "# Filter trips that start in the morning (before noon)\n",
        "morning_trips = df_bike[df_bike['Start Time'].dt.hour < 12]\n",
        "\n",
        "# Group the filtered data by 'Trip Route Category' and 'Passholder Type' and count the number of trips\n",
        "grouped = morning_trips.groupby(['Trip Route Category', 'Passholder Type']).size().unstack()\n",
        "\n",
        "# Normalize the counts to obtain proportions\n",
        "normalized_grouped = grouped.div(grouped.sum(axis=1), axis=0)\n",
        "\n",
        "# Create a single bar chart\n",
        "normalized_grouped.plot(kind='bar', figsize=(12, 6))\n",
        "\n",
        "# Customize the chart\n",
        "plt.xlabel('Passholder Type and Trip Route Category')\n",
        "plt.ylabel('Proportion of Trips')\n",
        "plt.title('Proportion of Trips by Passholder Type and Trip Route Category (Morning Hours)')\n",
        "\n",
        "# Display the legend\n",
        "plt.legend(title='Passholder Type')\n",
        "\n",
        "# Show the plot\n",
        "plt.show()"
      ]
    },
    {
      "cell_type": "code",
      "execution_count": null,
      "id": "0379e485",
      "metadata": {
        "id": "0379e485",
        "outputId": "e27118d8-23d4-4b91-f0c3-d4c428586361"
      },
      "outputs": [
        {
          "name": "stdout",
          "output_type": "stream",
          "text": [
            "Passholder Type             0         1         2         3\n",
            "Trip Route Category                                        \n",
            "0                    0.076170  0.705426  0.002785  0.215619\n",
            "1                    0.037612  0.315224  0.011642  0.635522\n"
          ]
        }
      ],
      "source": [
        "print(normalized_grouped)"
      ]
    },
    {
      "cell_type": "markdown",
      "id": "d2400345",
      "metadata": {
        "id": "d2400345"
      },
      "source": [
        "**Outliers in Passholder Types by Trip Route Category:**\n",
        "\n",
        "In the plot showing the proportion of trips by passholder type and trip route category, we observed some interesting outliers and patterns. Specifically, we looked at 'Trip Route Category' 0 and 1:\n",
        "\n",
        "**For 'Trip Route Category' = 0:**\n",
        "\n",
        "1. Passholder Types are sorted as [1, 3, 0, 2].\n",
        "2. Corresponding proportions of trips for each Passholder Type are [0.705426, 0.215619, 0.076170, 0.002785].\n",
        "\n",
        "**For 'Trip Route Category' = 1:**\n",
        "\n",
        "1. Passholder Types are sorted as [3, 1, 0, 2].\n",
        "2. Corresponding proportions of trips for each Passholder Type are [0.635522, 0.315224, 0.037612, 0.011642].\n",
        "\n",
        "**Observations and Explanations:**\n",
        "\n",
        "1. **Outliers in Passholder Type 3 (e.g., Flex Pass)**:\n",
        "   - In 'Trip Route Category' 0, Passholder Type 3 (Flex Pass) has a proportion of 0.215619. While not an extreme outlier, it's notably lower than other Passholder Types in this category.\n",
        "   - In 'Trip Route Category' 1, Passholder Type 3 (Flex Pass) also has a proportion of 0.315224, which is lower than Passholder Type 1 (Monthly Pass) but significantly higher than in 'Trip Route Category' 0.\n",
        "   - The lower proportion of Flex Pass users in Category 0 may indicate that this Passholder Type is less common for certain types of trips.\n",
        "\n",
        "2. **Outliers in Passholder Type 0 (e.g., Walk-up)**:\n",
        "   - In both 'Trip Route Category' 0 and 1, Passholder Type 0 (Walk-up) has a relatively lower proportion compared to the other Passholder Types.\n",
        "   - This suggests that Walk-up users are less common for both trip route categories, possibly due to their preference for occasional or spontaneous use of the bike-sharing service.\n",
        "\n",
        "3. **Outliers in Passholder Type 2 (e.g., Staff Annual)**:\n",
        "   - In both categories, Passholder Type 2 (Staff Annual) has a very low proportion, indicating that this passholder type is not commonly used for trips that begin in the morning hours.\n",
        "   - This suggests that Staff Annual passes may not be popular for this specific time period.\n",
        "\n",
        "These observations provide insights into passholder preferences and usage patterns for different trip route categories and times of the day. The variations in proportions may be influenced by different passholder types' preferences, travel needs, or pricing structures.\n"
      ]
    },
    {
      "cell_type": "markdown",
      "id": "4153b187",
      "metadata": {
        "id": "4153b187"
      },
      "source": [
        "#### 5. Separate the hours of the day into two intervals that have (approximately) the same number of bikes leaving the stations. For each of the two intervals calculate the proportion of trips by *passholder type* and *trip route category*. Present your results in a `DataFrame` which has a unique, non-composite index. Does the proportion of trips depend on whether it is the first or second hour interval? Would the company have any significant benefit by creating a more complex paying scheme where monthly pass users would pay less in the first interval and (equally) more on the second one? Assume that the number of trips per interval will not change if the scheme changes."
      ]
    },
    {
      "cell_type": "code",
      "execution_count": null,
      "id": "08d3def8",
      "metadata": {
        "id": "08d3def8",
        "outputId": "48000afc-ef27-41b1-9769-cd795b10fc38"
      },
      "outputs": [
        {
          "name": "stdout",
          "output_type": "stream",
          "text": [
            "Resulting DataFrame:\n"
          ]
        },
        {
          "data": {
            "text/html": [
              "<div>\n",
              "<style scoped>\n",
              "    .dataframe tbody tr th:only-of-type {\n",
              "        vertical-align: middle;\n",
              "    }\n",
              "\n",
              "    .dataframe tbody tr th {\n",
              "        vertical-align: top;\n",
              "    }\n",
              "\n",
              "    .dataframe thead th {\n",
              "        text-align: right;\n",
              "    }\n",
              "</style>\n",
              "<table border=\"1\" class=\"dataframe\">\n",
              "  <thead>\n",
              "    <tr style=\"text-align: right;\">\n",
              "      <th></th>\n",
              "      <th>0</th>\n",
              "      <th>1</th>\n",
              "      <th>2</th>\n",
              "      <th>3</th>\n",
              "    </tr>\n",
              "  </thead>\n",
              "  <tbody>\n",
              "    <tr>\n",
              "      <th>0</th>\n",
              "      <td>0.081963</td>\n",
              "      <td>0.627590</td>\n",
              "      <td>0.001311</td>\n",
              "      <td>0.289137</td>\n",
              "    </tr>\n",
              "    <tr>\n",
              "      <th>1</th>\n",
              "      <td>0.042693</td>\n",
              "      <td>0.293178</td>\n",
              "      <td>0.001941</td>\n",
              "      <td>0.662188</td>\n",
              "    </tr>\n",
              "    <tr>\n",
              "      <th>0</th>\n",
              "      <td>0.069120</td>\n",
              "      <td>0.668269</td>\n",
              "      <td>0.003676</td>\n",
              "      <td>0.258935</td>\n",
              "    </tr>\n",
              "    <tr>\n",
              "      <th>1</th>\n",
              "      <td>0.032369</td>\n",
              "      <td>0.297075</td>\n",
              "      <td>0.011502</td>\n",
              "      <td>0.659054</td>\n",
              "    </tr>\n",
              "  </tbody>\n",
              "</table>\n",
              "</div>"
            ],
            "text/plain": [
              "          0         1         2         3\n",
              "0  0.081963  0.627590  0.001311  0.289137\n",
              "1  0.042693  0.293178  0.001941  0.662188\n",
              "0  0.069120  0.668269  0.003676  0.258935\n",
              "1  0.032369  0.297075  0.011502  0.659054"
            ]
          },
          "execution_count": 373,
          "metadata": {},
          "output_type": "execute_result"
        }
      ],
      "source": [
        "# Determine the two intervals with approximately the same number of bikes leaving the stations\n",
        "# You can calculate the median start time to divide the day into two equal parts\n",
        "median_start_time = df_bike['Start Time'].median()\n",
        "\n",
        "# Split the data into two intervals\n",
        "interval_1 = df_bike[df_bike['Start Time'] <= median_start_time]\n",
        "interval_2 = df_bike[df_bike['Start Time'] > median_start_time]\n",
        "\n",
        "# Group and calculate the proportions for each interval\n",
        "proportions_interval_1 = interval_1.groupby(['Trip Route Category', 'Passholder Type']).size().unstack()\n",
        "proportions_interval_1 = proportions_interval_1.div(proportions_interval_1.sum(axis=1), axis=0)\n",
        "\n",
        "proportions_interval_2 = interval_2.groupby(['Trip Route Category', 'Passholder Type']).size().unstack()\n",
        "proportions_interval_2 = proportions_interval_2.div(proportions_interval_2.sum(axis=1), axis=0)\n",
        "\n",
        "# Create DataFrames for each interval with unique indices\n",
        "df_interval_1 = proportions_interval_1.reset_index()\n",
        "df_interval_2 = proportions_interval_2.reset_index()\n",
        "\n",
        "# Rename the columns for clarity\n",
        "df_interval_1.columns.name = None\n",
        "df_interval_2.columns.name = None\n",
        "\n",
        "# Set the index to a single column in each DataFrame (e.g., 'Trip Route Category')\n",
        "df_interval_1.set_index('Trip Route Category', inplace=True)\n",
        "df_interval_2.set_index('Trip Route Category', inplace=True)\n",
        "\n",
        "# Rename the index to indicate the interval\n",
        "df_interval_1.index.name = 'Interval 1'\n",
        "df_interval_2.index.name = 'Interval 2'\n",
        "\n",
        "# Concatenate the two DataFrames vertically to create a single DataFrame\n",
        "result_df = pd.concat([df_interval_1, df_interval_2])\n",
        "\n",
        "# Display the result DataFrame\n",
        "print(\"Resulting DataFrame:\")\n",
        "result_df"
      ]
    },
    {
      "cell_type": "markdown",
      "id": "901c64e9",
      "metadata": {
        "id": "901c64e9"
      },
      "source": [
        "**Analysis of Proportions of Trips in Different Time Intervals**\n",
        "\n",
        "The proportions of trips in the first and second-hour intervals exhibit variations, indicating that user behavior or preferences differ during those time periods.\n",
        "\n",
        "- In the first-hour interval, Passholder Type 0 (e.g., Walk-up) represents 6.91% of the total trips.\n",
        "- In the second-hour interval, Passholder Type 0 represents 66.83% of the total trips.\n",
        "\n",
        "These differences imply that the proportion of trips depends on whether it is the first or second-hour interval. Users have different travel patterns or purposes during these times.\n",
        "\n",
        "**Considerations for a More Complex Payment Scheme**\n",
        "\n",
        "A potential complex payment scheme where monthly pass users pay less in the first interval and more in the second one could influence user behavior. However, several factors need to be considered:\n",
        "\n",
        "1. **User Behavior**: Analyze user behavior to ensure the scheme aligns with observed patterns.\n",
        "2. **Pricing Strategy**: Assess the financial implications and revenue impact.\n",
        "3. **Operational Logistics**: Ensure effective implementation and communication.\n",
        "4. **Market Competition**: Consider the competitive landscape and positioning.\n",
        "5. **User Feedback**: Gather feedback from users for informed decisions.\n",
        "\n",
        "The decision to implement the scheme should be based on careful analysis and alignment with business goals. While it has the potential to benefit the company, it must be implemented thoughtfully to avoid unintended consequences.\n"
      ]
    },
    {
      "cell_type": "markdown",
      "id": "0c9dae64",
      "metadata": {
        "id": "0c9dae64"
      },
      "source": [
        "#### Explaining"
      ]
    },
    {
      "cell_type": "markdown",
      "id": "66c54e4c",
      "metadata": {
        "id": "66c54e4c"
      },
      "source": [
        "**Explain your approach and assumptions once this section is completed.**\n",
        "\n",
        "\n",
        "In this querying phase, we have answered a series of questions utilizing Pandas functionality and data analysis techniques. Below, we explain the approach and assumptions for each task:\n",
        "\n",
        "**Task 1: Plotting Distribution of Outgoing Trips**\n",
        "\n",
        "*Approach:* We began by analyzing the distribution of the number of outgoing trips from each station. The approach involved grouping the data based on station IDs, and then creating a histogram with 20 bins to visualize the distribution. This allowed us to understand how trips are distributed across different stations.\n",
        "\n",
        "*Assumptions:* We assumed that the dataset was well-prepared, with the 'Ending Station ID' column containing categorical station identifiers. We also assumed that the data was representative of the context being analyzed.\n",
        "\n",
        "**Task 2: Plotting Histograms for Duration and Trip Starting Hour**\n",
        "\n",
        "*Approach:* We created histograms for both trip duration and trip starting hour. To ensure clarity, we used 1-hour intervals. The approach allowed us to observe patterns in trip durations and starting times, and to identify popular values. We also explained local maxima and trends in trip starting hours based on human behavior.\n",
        "\n",
        "*Assumptions:* We assumed that the duration and starting hour data were appropriately formatted, and that the histograms' 1-hour intervals provided a clear representation of the data distribution.\n",
        "\n",
        "**Task 3: Calculating Proportions of Trips by Trip Route Category and Passholder Type**\n",
        "\n",
        "*Approach:* We calculated the proportions of trips by trip route category and passholder type and presented the results as a stacked bar chart with normalized height. This approach helped us understand how trip proportions vary by category and passholder type.\n",
        "\n",
        "*Assumptions:* The assumption was that the dataset contained accurate trip records and that the analysis would accurately represent the proportions within the specified categories.\n",
        "\n",
        "**Task 4: Proportion of Trips in Morning Hours by Passholder Type and Trip Route Category**\n",
        "\n",
        "*Approach:* We created a single bar chart to visualize the proportion of trips by passholder type and trip route category, focusing only on trips that began in the morning. The aim was to explore and understand the distribution of trips during the morning hours.\n",
        "\n",
        "*Assumptions:* We assumed that the time-based filtering for morning hours was appropriate for the context and that the data accurately reflected the behavior of users during that time.\n",
        "\n",
        "**Task 5: Separating Hours into Two Intervals and Calculating Proportions**\n",
        "\n",
        "*Approach:* We divided the day into two intervals with a roughly equal number of bikes leaving stations. For each interval, we calculated the proportions of trips by passholder type and trip route category, presenting the results in a DataFrame. We also analyzed whether the proportion of trips depended on the interval.\n",
        "\n",
        "*Assumptions:* We assumed that the division of hours into two intervals was representative of user behavior. The analysis considered that the number of trips would remain constant even if the payment scheme changed.\n",
        "\n",
        "In summary, the approach for each task involved utilizing Pandas and data visualization tools to answer specific questions. Assumptions were made about the quality of the dataset and the suitability of the chosen methods for analysis. The overarching goal was to gain insights and understanding from the data while addressing the specified questions.\n"
      ]
    }
  ],
  "metadata": {
    "kernelspec": {
      "display_name": "Python 3 (ipykernel)",
      "language": "python",
      "name": "python3"
    },
    "language_info": {
      "codemirror_mode": {
        "name": "ipython",
        "version": 3
      },
      "file_extension": ".py",
      "mimetype": "text/x-python",
      "name": "python",
      "nbconvert_exporter": "python",
      "pygments_lexer": "ipython3",
      "version": "3.11.4"
    },
    "colab": {
      "provenance": []
    }
  },
  "nbformat": 4,
  "nbformat_minor": 5
}