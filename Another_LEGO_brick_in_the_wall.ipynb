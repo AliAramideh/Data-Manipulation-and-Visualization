{
  "cells": [
    {
      "cell_type": "markdown",
      "id": "ff1cb5e9",
      "metadata": {
        "id": "ff1cb5e9"
      },
      "source": [
        "# Data Manipulation and Visualization\n",
        "\n",
        "*Foundations of Data Science*  \n",
        "*Dr. Khalaj (Fall 2023)*  "
      ]
    },
    {
      "cell_type": "markdown",
      "id": "85619e40",
      "metadata": {
        "id": "85619e40"
      },
      "source": [
        "### Description\n",
        "In this homework you are supposed to get comfortable (or make sure that you are!) with the basic Python tools frequently used in data science.  "
      ]
    },
    {
      "cell_type": "markdown",
      "id": "2ea676e1",
      "metadata": {
        "id": "2ea676e1"
      },
      "source": [
        "### Information  \n",
        "Complete the information box below."
      ]
    },
    {
      "cell_type": "code",
      "execution_count": null,
      "id": "5f4e4b36",
      "metadata": {
        "id": "5f4e4b36"
      },
      "outputs": [],
      "source": [
        "full_name = 'Ali Aramideh'"
      ]
    },
    {
      "cell_type": "code",
      "execution_count": null,
      "id": "c1a58625",
      "metadata": {
        "id": "c1a58625"
      },
      "outputs": [],
      "source": [
        "# Import all your libraries here\n",
        "import pandas as pd\n",
        "import numpy as np\n",
        "import re\n",
        "import matplotlib.pyplot as plt\n",
        "import seaborn as sns\n",
        "import xlrd\n",
        "import matplotlib.patches as mpatches\n",
        "import matplotlib.colors as mcolors\n",
        "\n",
        "from sklearn.preprocessing import LabelEncoder"
      ]
    },
    {
      "cell_type": "markdown",
      "id": "647c84a6",
      "metadata": {
        "id": "647c84a6"
      },
      "source": [
        "## Another LEGO brick in the wall\n",
        "LEGO is a popular brand of toy building bricks. They are often sold in sets in order to build a specific object. Each set contains a number of parts in different shapes, sizes and colors. This database contains information on which parts are included in different LEGO sets. It was originally compiled to help people who owned some LEGO sets already figure out what other sets they could build with the pieces they had.\n",
        "\n",
        "This dataset contains the official LEGO colors, parts, inventories (i.e., sets of LEGO parts which assembled create an object in the LEGO world) and sets (i.e., sets of LEGO inventories which assembled create a LEGO ecosystem). The schema of the dataset can be shown in the following diagram.\n",
        "\n",
        "![lego-schema](lego-schema.png)\n",
        "\n",
        "In this task you have to apply the following Data Wrangling pipeline:\n",
        "* Load your data into `Pandas`  \n",
        "\n",
        "* Explore it and clean its dirty parts\n",
        "* Use it to answer a set of queries\n",
        "\n",
        "Each of these subtasks are described in detail below."
      ]
    },
    {
      "cell_type": "markdown",
      "id": "8f67de25",
      "metadata": {
        "id": "8f67de25"
      },
      "source": [
        "### 1. Loading phase\n",
        "Load all the csv files into different `DataFrames`. Use meaningful names for your `DataFrames` (e.g., the respective filenames)."
      ]
    },
    {
      "cell_type": "code",
      "execution_count": null,
      "id": "fee57bce",
      "metadata": {
        "id": "fee57bce"
      },
      "outputs": [],
      "source": [
        "df_colors = pd.read_csv('data/lego/colors.csv')\n",
        "df_inventories = pd.read_csv('data/lego/inventories.csv')\n",
        "df_inventory_parts = pd.read_csv('data/lego/inventory_parts.csv')\n",
        "df_inventory_sets = pd.read_csv('data/lego/inventory_sets.csv')\n",
        "df_part_categories = pd.read_csv('data/lego/part_categories.csv')\n",
        "df_parts = pd.read_csv('data/lego/parts.csv')\n",
        "df_sets = pd.read_csv('data/lego/sets.csv')\n",
        "df_themes = pd.read_csv('data/lego/themes.csv')"
      ]
    },
    {
      "cell_type": "markdown",
      "id": "f26cfd7b",
      "metadata": {
        "id": "f26cfd7b"
      },
      "source": [
        "### 2. Cleaning phase\n",
        "Explore the following columns from your dataset:\n",
        "\n",
        "* sets: year  \n",
        "\n",
        "* inventory_parts: quantity  \n",
        "  \n",
        "Answer the following questions using data visualizations and manipulations. The code for this part is required alongside your explanations either in comments or markdown.  \n",
        "1. What is the time range of the sets?  \n",
        "\n",
        "2. What is the average quantity of the inventory parts?\n",
        "3. Do you see any inconsistencies?\n",
        "4. Provide code that detects and cleans such inconsistencies and validates the coherence of your dataset."
      ]
    },
    {
      "cell_type": "markdown",
      "id": "4069e2c9",
      "metadata": {
        "id": "4069e2c9"
      },
      "source": [
        "First I explore columns for myself, after that I am going to answer your questions."
      ]
    },
    {
      "cell_type": "code",
      "execution_count": null,
      "id": "83cb242b",
      "metadata": {
        "id": "83cb242b",
        "outputId": "06312d52-8089-4ce6-d6ad-8f1fab4b5eca"
      },
      "outputs": [
        {
          "data": {
            "text/html": [
              "<div>\n",
              "<style scoped>\n",
              "    .dataframe tbody tr th:only-of-type {\n",
              "        vertical-align: middle;\n",
              "    }\n",
              "\n",
              "    .dataframe tbody tr th {\n",
              "        vertical-align: top;\n",
              "    }\n",
              "\n",
              "    .dataframe thead th {\n",
              "        text-align: right;\n",
              "    }\n",
              "</style>\n",
              "<table border=\"1\" class=\"dataframe\">\n",
              "  <thead>\n",
              "    <tr style=\"text-align: right;\">\n",
              "      <th></th>\n",
              "      <th>id</th>\n",
              "      <th>name</th>\n",
              "      <th>year</th>\n",
              "      <th>theme_id</th>\n",
              "      <th>num_parts</th>\n",
              "    </tr>\n",
              "  </thead>\n",
              "  <tbody>\n",
              "    <tr>\n",
              "      <th>0</th>\n",
              "      <td>00-1</td>\n",
              "      <td>Weetabix Castle</td>\n",
              "      <td>70s</td>\n",
              "      <td>414</td>\n",
              "      <td>471</td>\n",
              "    </tr>\n",
              "    <tr>\n",
              "      <th>1</th>\n",
              "      <td>0011-2</td>\n",
              "      <td>Town Mini-Figures</td>\n",
              "      <td>1978</td>\n",
              "      <td>84</td>\n",
              "      <td>12</td>\n",
              "    </tr>\n",
              "    <tr>\n",
              "      <th>2</th>\n",
              "      <td>0011-3</td>\n",
              "      <td>Castle 2 for 1 Bonus Offer</td>\n",
              "      <td>1987</td>\n",
              "      <td>199</td>\n",
              "      <td>2</td>\n",
              "    </tr>\n",
              "    <tr>\n",
              "      <th>3</th>\n",
              "      <td>0012-1</td>\n",
              "      <td>Space Mini-Figures</td>\n",
              "      <td>1979</td>\n",
              "      <td>143</td>\n",
              "      <td>12</td>\n",
              "    </tr>\n",
              "    <tr>\n",
              "      <th>4</th>\n",
              "      <td>0013-1</td>\n",
              "      <td>Space Mini-Figures</td>\n",
              "      <td>1979</td>\n",
              "      <td>143</td>\n",
              "      <td>12</td>\n",
              "    </tr>\n",
              "    <tr>\n",
              "      <th>...</th>\n",
              "      <td>...</td>\n",
              "      <td>...</td>\n",
              "      <td>...</td>\n",
              "      <td>...</td>\n",
              "      <td>...</td>\n",
              "    </tr>\n",
              "    <tr>\n",
              "      <th>11668</th>\n",
              "      <td>Wauwatosa-1</td>\n",
              "      <td>LEGO Store Grand Opening Exclusive Set, Mayfai...</td>\n",
              "      <td>-2012</td>\n",
              "      <td>408</td>\n",
              "      <td>15</td>\n",
              "    </tr>\n",
              "    <tr>\n",
              "      <th>11669</th>\n",
              "      <td>WHITEHOUSE-1</td>\n",
              "      <td>Micro White House</td>\n",
              "      <td>-2015</td>\n",
              "      <td>598</td>\n",
              "      <td>59</td>\n",
              "    </tr>\n",
              "    <tr>\n",
              "      <th>11670</th>\n",
              "      <td>Wiesbaden-1</td>\n",
              "      <td>LEGO Store Grand Opening Exclusive Set, Wiesba...</td>\n",
              "      <td>2010</td>\n",
              "      <td>408</td>\n",
              "      <td>146</td>\n",
              "    </tr>\n",
              "    <tr>\n",
              "      <th>11671</th>\n",
              "      <td>WishingWell-1</td>\n",
              "      <td>Wishing Well [Toys R Us Promo]</td>\n",
              "      <td>-2013</td>\n",
              "      <td>494</td>\n",
              "      <td>28</td>\n",
              "    </tr>\n",
              "    <tr>\n",
              "      <th>11672</th>\n",
              "      <td>wwgp1-1</td>\n",
              "      <td>Wild West Limited Edition Gift Pack</td>\n",
              "      <td>1996</td>\n",
              "      <td>476</td>\n",
              "      <td>3</td>\n",
              "    </tr>\n",
              "  </tbody>\n",
              "</table>\n",
              "<p>11673 rows × 5 columns</p>\n",
              "</div>"
            ],
            "text/plain": [
              "                  id                                               name  \\\n",
              "0               00-1                                    Weetabix Castle   \n",
              "1             0011-2                                  Town Mini-Figures   \n",
              "2             0011-3                         Castle 2 for 1 Bonus Offer   \n",
              "3             0012-1                                 Space Mini-Figures   \n",
              "4             0013-1                                 Space Mini-Figures   \n",
              "...              ...                                                ...   \n",
              "11668    Wauwatosa-1  LEGO Store Grand Opening Exclusive Set, Mayfai...   \n",
              "11669   WHITEHOUSE-1                                  Micro White House   \n",
              "11670    Wiesbaden-1  LEGO Store Grand Opening Exclusive Set, Wiesba...   \n",
              "11671  WishingWell-1                     Wishing Well [Toys R Us Promo]   \n",
              "11672        wwgp1-1                Wild West Limited Edition Gift Pack   \n",
              "\n",
              "        year  theme_id  num_parts  \n",
              "0        70s       414        471  \n",
              "1       1978        84         12  \n",
              "2       1987       199          2  \n",
              "3       1979       143         12  \n",
              "4       1979       143         12  \n",
              "...      ...       ...        ...  \n",
              "11668  -2012       408         15  \n",
              "11669  -2015       598         59  \n",
              "11670   2010       408        146  \n",
              "11671  -2013       494         28  \n",
              "11672   1996       476          3  \n",
              "\n",
              "[11673 rows x 5 columns]"
            ]
          },
          "execution_count": 3,
          "metadata": {},
          "output_type": "execute_result"
        }
      ],
      "source": [
        "# Observe the data set:\n",
        "df_sets"
      ]
    },
    {
      "cell_type": "code",
      "execution_count": null,
      "id": "466bfacb",
      "metadata": {
        "id": "466bfacb",
        "outputId": "1395fe49-eeab-450f-ec4d-6da74afaa8ef"
      },
      "outputs": [
        {
          "data": {
            "text/html": [
              "<div>\n",
              "<style scoped>\n",
              "    .dataframe tbody tr th:only-of-type {\n",
              "        vertical-align: middle;\n",
              "    }\n",
              "\n",
              "    .dataframe tbody tr th {\n",
              "        vertical-align: top;\n",
              "    }\n",
              "\n",
              "    .dataframe thead th {\n",
              "        text-align: right;\n",
              "    }\n",
              "</style>\n",
              "<table border=\"1\" class=\"dataframe\">\n",
              "  <thead>\n",
              "    <tr style=\"text-align: right;\">\n",
              "      <th></th>\n",
              "      <th>inventory_id</th>\n",
              "      <th>part_id</th>\n",
              "      <th>color_id</th>\n",
              "      <th>quantity</th>\n",
              "      <th>is_spare</th>\n",
              "    </tr>\n",
              "  </thead>\n",
              "  <tbody>\n",
              "    <tr>\n",
              "      <th>0</th>\n",
              "      <td>1</td>\n",
              "      <td>48379c01</td>\n",
              "      <td>72</td>\n",
              "      <td>1.0</td>\n",
              "      <td>f</td>\n",
              "    </tr>\n",
              "    <tr>\n",
              "      <th>1</th>\n",
              "      <td>1</td>\n",
              "      <td>48395</td>\n",
              "      <td>7</td>\n",
              "      <td>1.0</td>\n",
              "      <td>f</td>\n",
              "    </tr>\n",
              "    <tr>\n",
              "      <th>2</th>\n",
              "      <td>1</td>\n",
              "      <td>mcsport6</td>\n",
              "      <td>25</td>\n",
              "      <td>1.0</td>\n",
              "      <td>f</td>\n",
              "    </tr>\n",
              "    <tr>\n",
              "      <th>3</th>\n",
              "      <td>1</td>\n",
              "      <td>paddle</td>\n",
              "      <td>0</td>\n",
              "      <td>1.0</td>\n",
              "      <td>f</td>\n",
              "    </tr>\n",
              "    <tr>\n",
              "      <th>4</th>\n",
              "      <td>3</td>\n",
              "      <td>11816pr0005</td>\n",
              "      <td>78</td>\n",
              "      <td>1.0</td>\n",
              "      <td>f</td>\n",
              "    </tr>\n",
              "    <tr>\n",
              "      <th>...</th>\n",
              "      <td>...</td>\n",
              "      <td>...</td>\n",
              "      <td>...</td>\n",
              "      <td>...</td>\n",
              "      <td>...</td>\n",
              "    </tr>\n",
              "    <tr>\n",
              "      <th>580246</th>\n",
              "      <td>18708</td>\n",
              "      <td>99206</td>\n",
              "      <td>0</td>\n",
              "      <td>3.0</td>\n",
              "      <td>f</td>\n",
              "    </tr>\n",
              "    <tr>\n",
              "      <th>580247</th>\n",
              "      <td>18708</td>\n",
              "      <td>99207</td>\n",
              "      <td>71</td>\n",
              "      <td>4.0</td>\n",
              "      <td>f</td>\n",
              "    </tr>\n",
              "    <tr>\n",
              "      <th>580248</th>\n",
              "      <td>18708</td>\n",
              "      <td>99780</td>\n",
              "      <td>15</td>\n",
              "      <td>4.0</td>\n",
              "      <td>f</td>\n",
              "    </tr>\n",
              "    <tr>\n",
              "      <th>580249</th>\n",
              "      <td>18708</td>\n",
              "      <td>99780</td>\n",
              "      <td>0</td>\n",
              "      <td>9.0</td>\n",
              "      <td>f</td>\n",
              "    </tr>\n",
              "    <tr>\n",
              "      <th>580250</th>\n",
              "      <td>18708</td>\n",
              "      <td>99780</td>\n",
              "      <td>72</td>\n",
              "      <td>5.0</td>\n",
              "      <td>f</td>\n",
              "    </tr>\n",
              "  </tbody>\n",
              "</table>\n",
              "<p>580251 rows × 5 columns</p>\n",
              "</div>"
            ],
            "text/plain": [
              "        inventory_id      part_id  color_id  quantity is_spare\n",
              "0                  1     48379c01        72       1.0        f\n",
              "1                  1        48395         7       1.0        f\n",
              "2                  1     mcsport6        25       1.0        f\n",
              "3                  1       paddle         0       1.0        f\n",
              "4                  3  11816pr0005        78       1.0        f\n",
              "...              ...          ...       ...       ...      ...\n",
              "580246         18708        99206         0       3.0        f\n",
              "580247         18708        99207        71       4.0        f\n",
              "580248         18708        99780        15       4.0        f\n",
              "580249         18708        99780         0       9.0        f\n",
              "580250         18708        99780        72       5.0        f\n",
              "\n",
              "[580251 rows x 5 columns]"
            ]
          },
          "execution_count": 11,
          "metadata": {},
          "output_type": "execute_result"
        }
      ],
      "source": [
        "# Observe the data set:\n",
        "df_inventory_parts"
      ]
    },
    {
      "cell_type": "code",
      "execution_count": null,
      "id": "c0c92d17",
      "metadata": {
        "id": "c0c92d17"
      },
      "outputs": [],
      "source": [
        "# Explore 'year' column of sets:\n",
        "data_type_year_sets = df_sets['year'].dtype\n",
        "missing_values_year_sets = df_sets['year'].isnull().sum()\n",
        "unique_values_year_sets = df_sets['year'].unique()\n",
        "value_counts_year_sets = df_sets['year'].value_counts()\n",
        "summary_statistics_year_sets = df_sets['year'].describe()"
      ]
    },
    {
      "cell_type": "code",
      "execution_count": null,
      "id": "14912640",
      "metadata": {
        "id": "14912640",
        "outputId": "0a04214a-107a-414a-8042-3d227d41f163"
      },
      "outputs": [
        {
          "name": "stdout",
          "output_type": "stream",
          "text": [
            "number of nan in quantity column before change nans: 161796\n",
            "number of nan in quantity column after change nans: 0\n"
          ]
        }
      ],
      "source": [
        "# Explore 'quantity' column of inventory_parts:\n",
        "df_inventory_parts['quantity'] = df_inventory_parts['quantity'].replace(-float('inf'), float('nan'))\n",
        "print(f\"number of nan in quantity column before change nans: {df_inventory_parts['quantity'].isna().sum()}\")\n",
        "df_inventory_parts['quantity'] = df_inventory_parts['quantity'].fillna(df_inventory_parts['quantity'].mean())\n",
        "print(f\"number of nan in quantity column after change nans: {df_inventory_parts['quantity'].isna().sum()}\")\n",
        "# Note: If you run twice, you will observe both value zero.\n",
        "\n",
        "data_type_quantity_inventory_parts = df_inventory_parts['quantity'].dtype\n",
        "missing_values_quantity_inventory_parts= df_inventory_parts['quantity'].isnull().sum()\n",
        "unique_values_quantity_inventory_parts = df_inventory_parts['quantity'].unique()\n",
        "value_counts_quantity_inventory_parts = df_inventory_parts['quantity'].value_counts()\n",
        "summary_statistics_quantity_inventory_parts = df_inventory_parts['quantity'].describe()"
      ]
    },
    {
      "cell_type": "code",
      "execution_count": null,
      "id": "018d98f2",
      "metadata": {
        "id": "018d98f2",
        "outputId": "0e4f70a0-3470-4fdf-f4b3-c63cc6f7f707"
      },
      "outputs": [
        {
          "name": "stdout",
          "output_type": "stream",
          "text": [
            "data_type_year_sets:  object\n",
            "##---------------------------------------------------------------------------\n",
            "missing_values_year_sets:  0\n",
            "##---------------------------------------------------------------------------\n",
            "unique_values_year_sets : ['70s' '1978' '1987' '1979' '19788' '1976' '1965' '1985' '1968' '1999'\n",
            " '1967' '1969' '2001' '20011' '1966' '2003' '2002' '20022' '-2003' '20033'\n",
            " '-2002' '20044' '2004' '2006' '20055' '2005' '-2004' '-2006' '-2010'\n",
            " '-2005' '20066' '2007' '20077' '2008' '20088' '-2009' '2009' '20099'\n",
            " '2010' '20100' '-2011' '2011' '20111' '2012' '20122' '-2013' '2013'\n",
            " '20133' '20144' '-20144' '2015' '2014' '-2014' '20155' '-2015' '2016'\n",
            " '20166' '-2016' '2017' '1977' '1983' '1986' '1984' '1973' '-2012'\n",
            " '-20155' '1981' '-2000' '80s' '1982' '1988' '20177' '-2017' '-1999'\n",
            " '19999' '-1986' '1997' '1998' '1971' '-1966' '-1977' '-1981' '-1985'\n",
            " '20000' '2000' '-20000' '1955' '1956' '1957' '-1982' '-1969' '19822'\n",
            " '19555' '1958' '-2001' '1974' '1972' '19988' '-1998' '19877' '19855'\n",
            " '19777' '1975' '-1987' '-1979' '1992' '1991' '-1991' '1989' '1990' '1993'\n",
            " '-1992' '-1989' '1994' '19944' '-1994' '1996' '19899' '19900' '19922'\n",
            " '1995' '-1995' '19966' '-1997' '19722' '19955' '19933' '1959' '1962'\n",
            " '-2008' '-20122' '1961' '19977' '1960' '1963' '1964' '19666' '-1975'\n",
            " '-20133' '-19999' '-20033' '-1973' '-1980' '-1984' '-1971' '-2007'\n",
            " '-20077' '-20166' '-20011' '-20022' '19799' '19911' '-20044' '19622'\n",
            " '-1962' '-19977' '19844' '-20099' '19866' '-1993' '-1996' '-1983' '-1988'\n",
            " '-20066' '19888' '1950' '1953' '1954' '19811' '19800' '19833' '-20100'\n",
            " '-20111' '19699']\n"
          ]
        }
      ],
      "source": [
        "# For 'Year' Column:\n",
        "print('data_type_year_sets: ', data_type_year_sets)\n",
        "print('##---------------------------------------------------------------------------')\n",
        "\n",
        "print('missing_values_year_sets: ', missing_values_year_sets)\n",
        "print('##---------------------------------------------------------------------------')\n",
        "\n",
        "print('unique_values_year_sets :', unique_values_year_sets)"
      ]
    },
    {
      "cell_type": "code",
      "execution_count": null,
      "id": "2255d554",
      "metadata": {
        "id": "2255d554",
        "outputId": "267b3af9-9b6e-4100-d2f0-796acc86d1ce"
      },
      "outputs": [
        {
          "name": "stdout",
          "output_type": "stream",
          "text": [
            "data_type_quantity_inventory_parts:  float64\n",
            "##---------------------------------------------------------------------------\n",
            "missing_values_quantity_inventory_parts:  0\n",
            "##---------------------------------------------------------------------------\n",
            "unique_values_quantity_inventory_parts : [1.00000000e+00 3.83693826e+00 4.00000000e+00 5.00000000e+00\n",
            " 3.00000000e+00 6.00000000e+00 5.00000000e+01 7.00000000e+00\n",
            " 2.40000000e+01 8.00000000e+00 9.00000000e+00 1.60000000e+01\n",
            " 1.40000000e+01 1.27000000e+02 4.40000000e+01 1.00000000e+01\n",
            " 4.00000000e+01 1.14000000e+02 2.00000000e+01 2.80000000e+01\n",
            " 1.80000000e+01 1.90000000e+01 1.50000000e+01 1.10000000e+01\n",
            " 1.20000000e+01 1.30000000e+01 4.60000000e+01 2.10000000e+01\n",
            " 1.70000000e+01 1.03000000e+02 3.20000000e+01 8.50000000e+01\n",
            " 3.70000000e+01 3.00000000e+01 2.30000000e+01 6.00000000e+01\n",
            " 3.60000000e+01 7.20000000e+01 6.40000000e+01 5.20000000e+01\n",
            " 2.40000000e+02 6.90000000e+01 1.02000000e+02 4.80000000e+01\n",
            " 2.16000000e+02 2.20000000e+01 6.10000000e+01 3.30000000e+01\n",
            " 1.74000000e+02 5.40000000e+01 3.88000000e+02 7.60000000e+01\n",
            " 2.36000000e+02 2.76000000e+02 7.00000000e+01 1.00000000e+02\n",
            " 3.90000000e+01 7.50000000e+01 6.60000000e+01 2.08000000e+02\n",
            " 9.20000000e+01 4.20000000e+01 8.00000000e+01 1.56000000e+02\n",
            " 1.04000000e+02 7.80000000e+01 2.70000000e+01 1.72000000e+02\n",
            " 1.08000000e+02 3.50000000e+01 3.40000000e+01 2.60000000e+01\n",
            " 3.80000000e+01 2.90000000e+01 5.60000000e+01 1.07000000e+02\n",
            " 5.80000000e+01 4.90000000e+01 4.70000000e+01 1.12000000e+02\n",
            " 9.30000000e+01 2.50000000e+01 3.10000000e+01 4.30000000e+01\n",
            " 8.30000000e+01 4.50000000e+01 3.60000000e+02 4.50000000e+02\n",
            " 8.10000000e+02 5.40000000e+02 7.40000000e+01 9.40000000e+01\n",
            " 5.90000000e+01 9.00000000e+01 4.10000000e+01 3.04000000e+02\n",
            " 1.09000000e+02 8.40000000e+01 1.85000000e+02 6.50000000e+01\n",
            " 5.10000000e+01 5.50000000e+01 6.30000000e+01 2.68000000e+02\n",
            " 5.70000000e+01 1.21000000e+02 1.20000000e+02 9.50000000e+01\n",
            " 8.60000000e+01 1.88000000e+02 7.30000000e+01 5.30000000e+01\n",
            " 6.70000000e+01 5.09000000e+02 1.95000000e+02 4.15000000e+02\n",
            " 3.27000000e+02 1.15000000e+02 1.30000000e+02 8.70000000e+01\n",
            " 1.59000000e+02 2.20000000e+02 2.34000000e+02 1.06000000e+02\n",
            " 1.58000000e+02 1.81000000e+02 8.80000000e+01 7.10000000e+01\n",
            " 9.10000000e+01 1.19000000e+02 3.50000000e+02 6.80000000e+01\n",
            " 3.17000000e+02 6.20000000e+01 1.66000000e+02 2.88000000e+02\n",
            " 1.78000000e+02 1.64000000e+02 9.80000000e+01 1.16000000e+02\n",
            " 8.20000000e+01 7.70000000e+01 1.01000000e+02 9.60000000e+01\n",
            " 9.70000000e+01 4.60000000e+02 2.60000000e+02 2.31000000e+02\n",
            " 8.10000000e+01 1.69000000e+02 2.72000000e+02 1.84000000e+02\n",
            " 1.50000000e+02 2.35000000e+02 1.10000000e+02 2.11000000e+02\n",
            " 1.40000000e+02 1.80000000e+02 1.13000000e+02 1.75000000e+02\n",
            " 1.31000000e+02 1.54000000e+02 2.19000000e+02 1.44000000e+02\n",
            " 9.90000000e+01 1.42000000e+02 1.92000000e+02 7.90000000e+01\n",
            " 4.95000000e+02 2.14000000e+02 1.51000000e+02 1.36000000e+02\n",
            " 1.62000000e+02 2.43000000e+02 1.11000000e+02 2.04000000e+02\n",
            " 2.00000000e+02 2.85000000e+02 1.47000000e+02 1.18000000e+02\n",
            " 3.46000000e+02 1.39000000e+02 1.17000000e+02 1.24000000e+02\n",
            " 1.33000000e+02 1.26000000e+02 1.25000000e+02 3.44000000e+02\n",
            " 1.32000000e+02 1.82000000e+02 7.24000000e+02 4.57000000e+02\n",
            " 1.73000000e+02 3.00000000e+02 7.20000000e+02 2.70000000e+02\n",
            " 2.96000000e+02 1.70000000e+02 2.41000000e+02 8.90000000e+01\n",
            " 4.51000000e+02 1.37000000e+02 7.71000000e+02 2.45000000e+02\n",
            " 2.09000000e+02 1.48000000e+02 2.38000000e+02 1.83000000e+02\n",
            " 2.53000000e+02 1.90000000e+02 1.45000000e+02 2.42000000e+02\n",
            " 5.16000000e+02 3.80000000e+02 2.05000000e+02 3.74000000e+02\n",
            " 2.12000000e+02 2.27000000e+02 3.22000000e+02 2.52000000e+02\n",
            " 1.34000000e+02 5.56000000e+02 1.55000000e+02 2.75000000e+02\n",
            " 4.00000000e+02 1.46000000e+02 2.03000000e+02 2.30000000e+02\n",
            " 1.49000000e+02 2.54000000e+02 2.22000000e+02 6.30000000e+02\n",
            " 1.44000000e+03 1.17000000e+03 1.38000000e+02 1.28000000e+02\n",
            " 1.93000000e+02 1.29000000e+02 9.00000000e+02]\n"
          ]
        }
      ],
      "source": [
        "# For 'quantity' Column:\n",
        "print('data_type_quantity_inventory_parts: ', data_type_quantity_inventory_parts)\n",
        "print('##---------------------------------------------------------------------------')\n",
        "\n",
        "print('missing_values_quantity_inventory_parts: ', missing_values_quantity_inventory_parts)\n",
        "print('##---------------------------------------------------------------------------')\n",
        "\n",
        "print('unique_values_quantity_inventory_parts :', unique_values_quantity_inventory_parts)"
      ]
    },
    {
      "cell_type": "code",
      "execution_count": null,
      "id": "ce106ce1",
      "metadata": {
        "id": "ce106ce1",
        "outputId": "922726d5-53ba-47e2-c8b9-e5b512f25112"
      },
      "outputs": [
        {
          "name": "stdout",
          "output_type": "stream",
          "text": [
            "2012      394\n",
            "2013      386\n",
            "2015      380\n",
            "2014      379\n",
            "2016      363\n",
            "         ... \n",
            "-1988       1\n",
            "-1971       1\n",
            "-20077      1\n",
            "-19977      1\n",
            "19699       1\n",
            "Name: year, Length: 174, dtype: int64\n"
          ]
        }
      ],
      "source": [
        "# For 'year' Column:\n",
        "# To observe values count of year in sets dataset\n",
        "print(value_counts_year_sets)"
      ]
    },
    {
      "cell_type": "code",
      "execution_count": null,
      "id": "553de745",
      "metadata": {
        "id": "553de745",
        "outputId": "e3623f56-fa57-4d21-de46-cfdba45c0f87"
      },
      "outputs": [
        {
          "name": "stdout",
          "output_type": "stream",
          "text": [
            "1.000000      239479\n",
            "3.836938      161796\n",
            "4.000000       62072\n",
            "3.000000       31219\n",
            "6.000000       20144\n",
            "               ...  \n",
            "344.000000         1\n",
            "415.000000         1\n",
            "346.000000         1\n",
            "327.000000         1\n",
            "509.000000         1\n",
            "Name: quantity, Length: 239, dtype: int64\n"
          ]
        }
      ],
      "source": [
        "# For 'quantity' Column:\n",
        "# To observe values count of quantity in sets dataset\n",
        "print(value_counts_quantity_inventory_parts)"
      ]
    },
    {
      "cell_type": "code",
      "execution_count": null,
      "id": "37cf58a2",
      "metadata": {
        "id": "37cf58a2",
        "outputId": "d0963dbc-66f8-441b-b007-49ed7f5d8f2d"
      },
      "outputs": [
        {
          "name": "stdout",
          "output_type": "stream",
          "text": [
            "Summary statistics for year column\n",
            "count     11673\n",
            "unique      174\n",
            "top        2012\n",
            "freq        394\n",
            "Name: year, dtype: object\n",
            "##---------------------------------------------------------------------------\n",
            "Summary statistics for quantity column\n",
            "count    580251.000000\n",
            "mean          3.836938\n",
            "std           8.188488\n",
            "min           1.000000\n",
            "25%           1.000000\n",
            "50%           3.836938\n",
            "75%           4.000000\n",
            "max        1440.000000\n",
            "Name: quantity, dtype: float64\n"
          ]
        }
      ],
      "source": [
        "print('Summary statistics for year column')\n",
        "print(summary_statistics_year_sets)\n",
        "print('##---------------------------------------------------------------------------')\n",
        "\n",
        "print('Summary statistics for quantity column')\n",
        "print(summary_statistics_quantity_inventory_parts)"
      ]
    },
    {
      "cell_type": "markdown",
      "id": "0930c789",
      "metadata": {
        "id": "0930c789"
      },
      "source": [
        "#### 1: What is the time range of the sets?\n"
      ]
    },
    {
      "cell_type": "code",
      "execution_count": null,
      "id": "8790a0ed",
      "metadata": {
        "id": "8790a0ed",
        "outputId": "568e2e2e-ffca-479e-b926-67c7fa4c986d"
      },
      "outputs": [
        {
          "name": "stdout",
          "output_type": "stream",
          "text": [
            "Time Range of Sets: -1962 to 80s\n"
          ]
        }
      ],
      "source": [
        "# Q1:\n",
        "\n",
        "# Calculate the time range\n",
        "min_year = df_sets['year'].min()\n",
        "max_year = df_sets['year'].max()\n",
        "print(f\"Time Range of Sets: {min_year} to {max_year}\")\n",
        "# Output: {Time Range of Sets: -1962 to 80s}!!!\n",
        "# But we do not have negative year or 80s. So we should clean this column. I think after that you will want it :)"
      ]
    },
    {
      "cell_type": "markdown",
      "id": "f813009f",
      "metadata": {
        "id": "f813009f"
      },
      "source": [
        "Therefor, we should clean year column!"
      ]
    },
    {
      "cell_type": "markdown",
      "id": "94957d7d",
      "metadata": {
        "id": "94957d7d"
      },
      "source": [
        "#### 2: What is the average quantity of the inventory parts?\n"
      ]
    },
    {
      "cell_type": "code",
      "execution_count": null,
      "id": "9c09a3c9",
      "metadata": {
        "id": "9c09a3c9",
        "outputId": "1d89bc4f-f2ca-4656-b25b-2aa2ee230e49"
      },
      "outputs": [
        {
          "name": "stdout",
          "output_type": "stream",
          "text": [
            "Average Quantity of Inventory Parts: -inf\n"
          ]
        }
      ],
      "source": [
        "# Q2:\n",
        "# Calculate the average quantity of inventory parts\n",
        "average_quantity = df_inventory_parts['quantity'].mean()\n",
        "print(f\"Average Quantity of Inventory Parts: {average_quantity:.2f}\")"
      ]
    },
    {
      "cell_type": "markdown",
      "id": "51a8c8aa",
      "metadata": {
        "id": "51a8c8aa"
      },
      "source": [
        "Therefoe, Exist -inf or nan values(but I check there is not nan value).\n",
        "\n",
        "According to dataset, there is not $0$ in quantity column, so I think -inf should be $0$:"
      ]
    },
    {
      "cell_type": "code",
      "execution_count": null,
      "id": "babbef7b",
      "metadata": {
        "id": "babbef7b"
      },
      "outputs": [],
      "source": [
        "df_inventory_parts['quantity'] = df_inventory_parts['quantity'].replace(-float('inf'), 0)"
      ]
    },
    {
      "cell_type": "code",
      "execution_count": null,
      "id": "24c9d192",
      "metadata": {
        "id": "24c9d192",
        "outputId": "aab17b79-5130-4491-c4c8-7779d6ea1437"
      },
      "outputs": [
        {
          "name": "stdout",
          "output_type": "stream",
          "text": [
            "Average Quantity of Inventory Parts: 2.77\n"
          ]
        }
      ],
      "source": [
        "# Calculate the average quantity of inventory parts\n",
        "average_quantity = df_inventory_parts['quantity'].mean()\n",
        "print(f\"Average Quantity of Inventory Parts: {average_quantity:.2f}\")"
      ]
    },
    {
      "cell_type": "markdown",
      "id": "f80a9325",
      "metadata": {
        "id": "f80a9325"
      },
      "source": [
        "Let me calcuate the average quantity again"
      ]
    },
    {
      "cell_type": "markdown",
      "id": "5fde6085",
      "metadata": {
        "id": "5fde6085"
      },
      "source": [
        "#### 3,4: Do you see any inconsistencies? Provide code that detects and cleans such inconsistencies and validates the coherence of your dataset"
      ]
    },
    {
      "cell_type": "markdown",
      "id": "65df21b5",
      "metadata": {
        "id": "65df21b5"
      },
      "source": [
        "Yes, as I mentioned, in `year` column there are values that is not true for year:"
      ]
    },
    {
      "cell_type": "code",
      "execution_count": null,
      "id": "b8f21acb",
      "metadata": {
        "id": "b8f21acb",
        "outputId": "0c61fc6d-594e-417a-fe18-6512e62477af"
      },
      "outputs": [
        {
          "data": {
            "text/plain": [
              "array(['70s', '1978', '1987', '1979', '19788', '1976', '1965', '1985',\n",
              "       '1968', '1999', '1967', '1969', '2001', '20011', '1966', '2003',\n",
              "       '2002', '20022', '-2003', '20033', '-2002', '20044', '2004',\n",
              "       '2006', '20055', '2005', '-2004', '-2006', '-2010', '-2005',\n",
              "       '20066', '2007', '20077', '2008', '20088', '-2009', '2009',\n",
              "       '20099', '2010', '20100', '-2011', '2011', '20111', '2012',\n",
              "       '20122', '-2013', '2013', '20133', '20144', '-20144', '2015',\n",
              "       '2014', '-2014', '20155', '-2015', '2016', '20166', '-2016',\n",
              "       '2017', '1977', '1983', '1986', '1984', '1973', '-2012', '-20155',\n",
              "       '1981', '-2000', '80s', '1982', '1988', '20177', '-2017', '-1999',\n",
              "       '19999', '-1986', '1997', '1998', '1971', '-1966', '-1977',\n",
              "       '-1981', '-1985', '20000', '2000', '-20000', '1955', '1956',\n",
              "       '1957', '-1982', '-1969', '19822', '19555', '1958', '-2001',\n",
              "       '1974', '1972', '19988', '-1998', '19877', '19855', '19777',\n",
              "       '1975', '-1987', '-1979', '1992', '1991', '-1991', '1989', '1990',\n",
              "       '1993', '-1992', '-1989', '1994', '19944', '-1994', '1996',\n",
              "       '19899', '19900', '19922', '1995', '-1995', '19966', '-1997',\n",
              "       '19722', '19955', '19933', '1959', '1962', '-2008', '-20122',\n",
              "       '1961', '19977', '1960', '1963', '1964', '19666', '-1975',\n",
              "       '-20133', '-19999', '-20033', '-1973', '-1980', '-1984', '-1971',\n",
              "       '-2007', '-20077', '-20166', '-20011', '-20022', '19799', '19911',\n",
              "       '-20044', '19622', '-1962', '-19977', '19844', '-20099', '19866',\n",
              "       '-1993', '-1996', '-1983', '-1988', '-20066', '19888', '1950',\n",
              "       '1953', '1954', '19811', '19800', '19833', '-20100', '-20111',\n",
              "       '19699'], dtype=object)"
            ]
          },
          "execution_count": 250,
          "metadata": {},
          "output_type": "execute_result"
        }
      ],
      "source": [
        "df_sets['year'].unique() # dtype=object -> we should use regex method"
      ]
    },
    {
      "cell_type": "code",
      "execution_count": null,
      "id": "f402d975",
      "metadata": {
        "id": "f402d975"
      },
      "outputs": [],
      "source": [
        "# Remove the negative sign:\n",
        "df_sets['year'] = df_sets['year'].str.replace('-','')\n",
        "\n",
        "# Convert decades:\n",
        "# Define a function to replace decades with their middle years\n",
        "def replace_decades_with_middle(year_str):\n",
        "    if re.match(r'\\d{2}s', year_str):\n",
        "        decade = int(year_str[:1])\n",
        "        middle_year = 1900 + (decade * 10) + 5\n",
        "        return str(middle_year)\n",
        "    return year_str\n",
        "df_sets['year'] = df_sets['year'].apply(replace_decades_with_middle)\n",
        "\n",
        "#  Remove all characters after the 4th character in the 'year' column\n",
        "# Define a function to clean the 'year' column\n",
        "def clean_year(year_str):\n",
        "    return year_str[:4]\n",
        "\n",
        "# Apply the function to the 'year' column\n",
        "df_sets['year'] = df_sets['year'].apply(clean_year)"
      ]
    },
    {
      "cell_type": "code",
      "execution_count": null,
      "id": "386eb82d",
      "metadata": {
        "id": "386eb82d",
        "outputId": "e47f3221-556b-4f34-f8ba-9befe3207bbf"
      },
      "outputs": [
        {
          "data": {
            "text/plain": [
              "array(['1975', '1978', '1987', '1979', '1976', '1965', '1985', '1968',\n",
              "       '1999', '1967', '1969', '2001', '1966', '2003', '2002', '2004',\n",
              "       '2006', '2005', '2010', '2007', '2008', '2009', '2011', '2012',\n",
              "       '2013', '2014', '2015', '2016', '2017', '1977', '1983', '1986',\n",
              "       '1984', '1973', '1981', '2000', '1982', '1988', '1997', '1998',\n",
              "       '1971', '1955', '1956', '1957', '1958', '1974', '1972', '1992',\n",
              "       '1991', '1989', '1990', '1993', '1994', '1996', '1995', '1959',\n",
              "       '1962', '1961', '1960', '1963', '1964', '1980', '1950', '1953',\n",
              "       '1954'], dtype=object)"
            ]
          },
          "execution_count": 272,
          "metadata": {},
          "output_type": "execute_result"
        }
      ],
      "source": [
        "df_sets['year'].unique()"
      ]
    },
    {
      "cell_type": "markdown",
      "id": "8ba26077",
      "metadata": {
        "id": "8ba26077"
      },
      "source": [
        "And `quantity` column had -inf values that I removed them"
      ]
    },
    {
      "cell_type": "code",
      "execution_count": null,
      "id": "b4202912",
      "metadata": {
        "id": "b4202912",
        "outputId": "b655bb53-365e-42b0-9eca-5076092d80bb"
      },
      "outputs": [
        {
          "data": {
            "text/plain": [
              "count    580251.000000\n",
              "mean          2.767054\n",
              "std           8.367304\n",
              "min           0.000000\n",
              "25%           0.000000\n",
              "50%           1.000000\n",
              "75%           4.000000\n",
              "max        1440.000000\n",
              "Name: quantity, dtype: float64"
            ]
          },
          "execution_count": 277,
          "metadata": {},
          "output_type": "execute_result"
        }
      ],
      "source": [
        "df_inventory_parts['quantity'].describe()"
      ]
    },
    {
      "cell_type": "markdown",
      "id": "dbd31462",
      "metadata": {
        "id": "dbd31462"
      },
      "source": [
        "Everything seems to be correct"
      ]
    },
    {
      "cell_type": "markdown",
      "id": "7756b6af",
      "metadata": {
        "id": "7756b6af"
      },
      "source": [
        "This part"
      ]
    },
    {
      "cell_type": "markdown",
      "id": "78055aa6",
      "metadata": {
        "id": "78055aa6"
      },
      "source": [
        "**Explain your approach and assumptions once this section is completed.**"
      ]
    },
    {
      "cell_type": "markdown",
      "id": "e262b501",
      "metadata": {
        "id": "e262b501"
      },
      "source": [
        "At the first I explore datasets (sets, inventory_parts) for myself; I tried to get information about columns `year` and `quantity` such describe statistics parameters, distribution of them etc.\n",
        "\n",
        "After that I should answer four questions that mentioned, so I did :)\n",
        "\n",
        "You can observe and read all things in code blocks; Please read comments."
      ]
    },
    {
      "cell_type": "markdown",
      "id": "69ba002d",
      "metadata": {
        "id": "69ba002d"
      },
      "source": [
        "### 3. Querying phase\n",
        "Answer the following queries using the functionality of `Pandas`:\n",
        "\n",
        "* List the IDs of the inventories that belong to sets that contain cars. (*Hint: Find a smart way to distinguish which sets contain cars based on the sets' name*).  \n",
        "\n",
        "* Plot the distribution of part categories as a (horizontal) bar chart. Restrict yourself to the 20 largest part categories (in terms of the number of parts belonging to the category).  \n",
        "\n",
        "* Find the dominant color of each set. Then, plot using a (horizontal) bar chart, the number of sets per dominant color. Color each bar with the respective color that it represents.  \n",
        "\n",
        "* Create a scatter plot of the **luminance** of the sets vs their publishing year. After it is done, briefly answer the following questions:\n",
        "  1. Do you see a trend over the last years?  \n",
        "  \n",
        "  2. How do you interpret it?\n",
        "\n",
        "The luminance of a color is a [measure of brightness](https://en.wikipedia.org/wiki/Luminance) which, given its RGB representation, can be computed as follows:\n",
        "\n",
        "$luminance = \\sqrt{0.299*R^2 + 0.587*G^2 + 0.114*B^2}$"
      ]
    },
    {
      "cell_type": "code",
      "execution_count": null,
      "id": "05687568",
      "metadata": {
        "id": "05687568",
        "outputId": "3c62199e-ba36-42cf-bd53-247bd4fb1553"
      },
      "outputs": [
        {
          "data": {
            "text/plain": [
              "array(['10022-1', '10025-1', '10200-1', '10665-1', '10673-1', '1253-1',\n",
              "       '1255-1', '1353-1', '147-1', '1477-1', '1489-1', '1518-1', '157-3',\n",
              "       '167-1', '1966-1', '2824-20', '2824-22', '2995-1', '3226-1',\n",
              "       '353-1', '3581-1', '3641-1', '3714-1', '379-2', '3915-1', '4117-1',\n",
              "       '4166-1', '4435-1', '4544-1', '5898-1', '623-2', '650-1', '656-1',\n",
              "       '660-1', '66386-1', '66387-1', '66392-1', '66409-1', '6694-1',\n",
              "       '7033-1', '70819-1', '7236-2', '7553-16', '7553-17', '7553-18',\n",
              "       '75821-1', '7687-21', '7839-1', '7907-15', '8286-1', '850953-1',\n",
              "       '8634-1', '8803-11', '8860-1', '9678-1', '9685-1', '970674-1'],\n",
              "      dtype=object)"
            ]
          },
          "execution_count": 279,
          "metadata": {},
          "output_type": "execute_result"
        }
      ],
      "source": [
        "# 1\n",
        "# Find the IDs of inventories for sets with names containing \"car\"\n",
        "car_sets = df_sets[df_sets['name'].str.contains('car |cars ', case=False)]\n",
        "car_inventory_ids = car_sets['id'].unique()\n",
        "car_inventory_ids"
      ]
    },
    {
      "cell_type": "code",
      "execution_count": null,
      "id": "6b1266ae",
      "metadata": {
        "id": "6b1266ae",
        "outputId": "a1cafc70-69bf-4c9c-bee9-86306a70cde3"
      },
      "outputs": [
        {
          "data": {
            "image/png": "[encoded data removed]",
            "text/plain": [
              "<Figure size 640x480 with 1 Axes>"
            ]
          },
          "metadata": {},
          "output_type": "display_data"
        }
      ],
      "source": [
        "# 2\n",
        "# Select top20 categories\n",
        "top20_part_cat_id = df_parts['part_cat_id'].value_counts().sort_values(ascending=False).head(20)\n",
        "# Select part category names based on the specified IDs\n",
        "selected_category_ids = [13, 27, 17, 4, 10, 24, 41, 2, 28, 45, 38, 3, 36, 16, 48, 37, 29, 47, 1, 42]\n",
        "selected_part_categories = df_part_categories[df_part_categories['id'].isin(selected_category_ids)]\n",
        "# Reindex the DataFrame based on the order of IDs\n",
        "selected_part_categories = selected_part_categories.set_index('id').loc[selected_category_ids]\n",
        "# Reset the index to have the DataFrame sorted by the specified order\n",
        "selected_part_categories = selected_part_categories.reset_index()\n",
        "selected_part_categories['number'] = top20_part_cat_id.values\n",
        "# Plot\n",
        "plt.barh(selected_part_categories['name'], selected_part_categories['number'], color='skyblue')\n",
        "plt.xlabel('Number of Parts')\n",
        "plt.ylabel('Part Category')\n",
        "plt.title('Top 20 Selected Part Categories by Number of Parts')\n",
        "plt.show()"
      ]
    },
    {
      "cell_type": "code",
      "execution_count": null,
      "id": "ba8a6319",
      "metadata": {
        "id": "ba8a6319",
        "outputId": "5ae1fd76-8745-48d9-f32c-00ff5a167743"
      },
      "outputs": [
        {
          "data": {
            "image/png": "[encoded data removed]",
            "text/plain": [
              "<Figure size 1200x600 with 1 Axes>"
            ]
          },
          "metadata": {},
          "output_type": "display_data"
        }
      ],
      "source": [
        "#3\n",
        "# Merge relevant DataFrames to get necessary information\n",
        "merged_df = pd.merge(df_inventory_sets, df_inventory_parts, on='inventory_id')\n",
        "merged_df = pd.merge(merged_df, df_colors, left_on='color_id', right_on='id')\n",
        "\n",
        "# Group the data by set and find the dominant color for each set\n",
        "dominant_colors = merged_df.groupby(['set_id', 'name', 'rgb', 'color_id'])['quantity_y'].sum().reset_index()\n",
        "dominant_colors = dominant_colors.loc[dominant_colors.groupby('set_id')['quantity_y'].idxmax()]\n",
        "\n",
        "# Convert hexadecimal colors to RGBA\n",
        "dominant_colors['rgba'] = dominant_colors['rgb'].apply(lambda x: mcolors.to_rgba('#' + x))\n",
        "\n",
        "# Count the number of sets per dominant color\n",
        "sets_per_color = dominant_colors['rgb'].value_counts()\n",
        "\n",
        "# Plot the bar chart\n",
        "fig, ax = plt.subplots(figsize=(12, 6))\n",
        "bars = ax.bar(sets_per_color.index, sets_per_color, color=dominant_colors.set_index('rgb')['rgba'])\n",
        "\n",
        "# Set labels and title\n",
        "ax.set_xlabel('Dominant Colors')\n",
        "ax.set_ylabel('Number of Sets')\n",
        "ax.set_title('Number of Sets per Dominant Color')\n",
        "\n",
        "# Rotate x-axis labels for better visibility\n",
        "plt.xticks(rotation=45, ha='right')\n",
        "\n",
        "plt.show()"
      ]
    },
    {
      "cell_type": "code",
      "execution_count": null,
      "id": "e25b6a5b",
      "metadata": {
        "id": "e25b6a5b",
        "outputId": "d11aaf73-d2cb-458e-aa9b-3b2032c8ab6b"
      },
      "outputs": [
        {
          "data": {
            "image/png": "[encoded data removed]",
            "text/plain": [
              "<Figure size 1200x600 with 1 Axes>"
            ]
          },
          "metadata": {},
          "output_type": "display_data"
        }
      ],
      "source": [
        "#4\n",
        "# Merge relevant DataFrames to get necessary information\n",
        "merged_df = pd.merge(df_sets, df_inventory_sets, left_on='id', right_on='set_id')\n",
        "merged_df = pd.merge(merged_df, df_inventory_parts, on='inventory_id')\n",
        "merged_df = pd.merge(merged_df, df_colors, left_on='color_id', right_on='id')\n",
        "\n",
        "# Extract RGB values from the 'rgb' column\n",
        "merged_df[['r', 'g', 'b']] = pd.DataFrame(merged_df['rgb'].apply(lambda x: [int(x[i:i+2], 16) for i in (0, 2, 4)]).tolist(), index=merged_df.index)\n",
        "\n",
        "# Calculate luminance based on RGB values\n",
        "merged_df['luminance'] = np.sqrt(0.299 * merged_df['r']**2 + 0.587 * merged_df['g']**2 + 0.114 * merged_df['b']**2)\n",
        "\n",
        "# Plot scatter plot\n",
        "fig, ax = plt.subplots(figsize=(12, 6))\n",
        "scatter = ax.scatter(merged_df['year'], merged_df['luminance'], alpha=0.5)\n",
        "\n",
        "# Set labels and title\n",
        "ax.set_xlabel('Publishing Year')\n",
        "ax.set_ylabel('Luminance')\n",
        "ax.set_title('Scatter Plot of Luminance vs Publishing Year')\n",
        "\n",
        "plt.show()"
      ]
    },
    {
      "cell_type": "markdown",
      "id": "9bfae417",
      "metadata": {
        "id": "9bfae417"
      },
      "source": [
        "**Explain your approach and assumptions once this section is completed.**"
      ]
    },
    {
      "cell_type": "markdown",
      "id": "151fbbaa",
      "metadata": {
        "id": "151fbbaa"
      },
      "source": [
        "At the first we should search cars in our sataset so I did it but I observed that some things that do not be car be in our result such as 'cardbourd', 'card' etc. Therefore I use car+space or cars+space.\n",
        "\n",
        "In the second part, first I selected top20 part categories and then I plotted barchart which is wanted.\n",
        "\n",
        "For part 3 and 4 please read comments."
      ]
    }
  ],
  "metadata": {
    "kernelspec": {
      "display_name": "Python 3 (ipykernel)",
      "language": "python",
      "name": "python3"
    },
    "language_info": {
      "codemirror_mode": {
        "name": "ipython",
        "version": 3
      },
      "file_extension": ".py",
      "mimetype": "text/x-python",
      "name": "python",
      "nbconvert_exporter": "python",
      "pygments_lexer": "ipython3",
      "version": "3.11.4"
    },
    "colab": {
      "provenance": []
    }
  },
  "nbformat": 4,
  "nbformat_minor": 5
}